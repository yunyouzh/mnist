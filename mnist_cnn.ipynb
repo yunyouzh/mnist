{
 "cells": [
  {
   "cell_type": "markdown",
   "metadata": {},
   "source": [
    "import libraries"
   ]
  },
  {
   "cell_type": "code",
   "execution_count": 13,
   "metadata": {},
   "outputs": [],
   "source": [
    "import torch\n",
    "from torch.autograd import Variable\n",
    "import torch.nn as nn\n",
    "import torch.utils.data as Data\n",
    "import torchvision\n",
    "import matplotlib.pyplot as plt"
   ]
  },
  {
   "cell_type": "markdown",
   "metadata": {},
   "source": [
    "define hyperparameters"
   ]
  },
  {
   "cell_type": "code",
   "execution_count": 14,
   "metadata": {},
   "outputs": [],
   "source": [
    "EPOCH = 1\n",
    "BATCH_SIZE = 50\n",
    "LR = 0.0001"
   ]
  },
  {
   "cell_type": "markdown",
   "metadata": {},
   "source": [
    "download and import mnist data"
   ]
  },
  {
   "cell_type": "code",
   "execution_count": 15,
   "metadata": {},
   "outputs": [],
   "source": [
    "train_data = torchvision.datasets.MNIST(root='./',train=True,download=False,transform=torchvision.transforms.ToTensor())\n",
    "test_data = torchvision.datasets.MNIST(root='./',train=False,transform=torchvision.transforms.ToTensor())\n",
    "train_loader = Data.DataLoader(dataset=train_data,batch_size=BATCH_SIZE,shuffle=True,num_workers=2)\n",
    "train_x = Variable(train_data.train_data.view(-1,1,28,28)).type(torch.FloatTensor)\n",
    "train_y = train_data.train_labels\n",
    "alltest_x = Variable(test_data.test_data.view(-1,1, 28,28)).type(torch.FloatTensor)\n",
    "alltest_y = test_data.test_labels\n",
    "val_x = alltest_x[:5000,:,:,:]\n",
    "val_y = alltest_y[:5000]\n",
    "test_x = alltest_x[5000:,:,:,:]\n",
    "test_y = alltest_y[5000:]"
   ]
  },
  {
   "cell_type": "code",
   "execution_count": null,
   "metadata": {},
   "outputs": [],
   "source": []
  },
  {
   "cell_type": "markdown",
   "metadata": {},
   "source": [
    "Define Fully Connected Neural Network"
   ]
  },
  {
   "cell_type": "code",
   "execution_count": 16,
   "metadata": {},
   "outputs": [],
   "source": [
    "class ConvNets(nn.Module):\n",
    "    def __init__(self):\n",
    "        super(ConvNets,self).__init__()\n",
    "        self.conv = nn.Sequential(\n",
    "            nn.Conv2d(1,16,5,1,2),\n",
    "            nn.ReLU(),\n",
    "            nn.MaxPool2d(2),\n",
    "            nn.Conv2d(16,32,5,1,2),\n",
    "            nn.ReLU(),\n",
    "            nn.MaxPool2d(2),\n",
    "            )\n",
    "        self.out = nn.Linear(32*7*7, 10)\n",
    "        \n",
    "    def forward(self,x):\n",
    "        x = self.conv(x)\n",
    "        x = x.view(-1,32*7*7)\n",
    "        x = self.out(x)\n",
    "        return x"
   ]
  },
  {
   "cell_type": "markdown",
   "metadata": {},
   "source": [
    "Define Neural Net instance and optimizer, loss function"
   ]
  },
  {
   "cell_type": "code",
   "execution_count": 17,
   "metadata": {},
   "outputs": [],
   "source": [
    "cnn = ConvNets()\n",
    "optimizer = torch.optim.Adam(params=cnn.parameters(), lr=LR)\n",
    "loss_func = nn.CrossEntropyLoss()"
   ]
  },
  {
   "cell_type": "code",
   "execution_count": null,
   "metadata": {},
   "outputs": [],
   "source": [
    "train_acc =  []\n",
    "val_acc = []\n",
    "epochs = []\n",
    "train_loss = []"
   ]
  },
  {
   "cell_type": "code",
   "execution_count": null,
   "metadata": {},
   "outputs": [
    {
     "name": "stdout",
     "output_type": "stream",
     "text": [
      "Epoch: 0 train loss:2.3022 train accuracy is:0.1526 validation accuracy is:0.1394\n",
      "Epoch: 0 train loss:2.2074 train accuracy is:0.5160 validation accuracy is:0.4888\n",
      "Epoch: 0 train loss:1.9665 train accuracy is:0.6664 validation accuracy is:0.6634\n",
      "Epoch: 0 train loss:1.2719 train accuracy is:0.7402 validation accuracy is:0.7122\n",
      "Epoch: 0 train loss:0.9389 train accuracy is:0.7570 validation accuracy is:0.7090\n",
      "Epoch: 0 train loss:0.6850 train accuracy is:0.8180 validation accuracy is:0.7918\n",
      "Epoch: 0 train loss:0.7014 train accuracy is:0.8446 validation accuracy is:0.8124\n",
      "Epoch: 0 train loss:0.3766 train accuracy is:0.8646 validation accuracy is:0.8366\n",
      "Epoch: 0 train loss:0.5875 train accuracy is:0.8786 validation accuracy is:0.8526\n",
      "Epoch: 0 train loss:0.2911 train accuracy is:0.8812 validation accuracy is:0.8578\n",
      "Epoch: 0 train loss:0.4397 train accuracy is:0.8932 validation accuracy is:0.8676\n",
      "Epoch: 0 train loss:0.2328 train accuracy is:0.8944 validation accuracy is:0.8672\n",
      "Epoch: 0 train loss:0.5227 train accuracy is:0.8976 validation accuracy is:0.8732\n",
      "Epoch: 0 train loss:0.9558 train accuracy is:0.9026 validation accuracy is:0.8760\n",
      "Epoch: 0 train loss:0.3144 train accuracy is:0.9088 validation accuracy is:0.8802\n",
      "Epoch: 0 train loss:0.3147 train accuracy is:0.9146 validation accuracy is:0.8838\n",
      "Epoch: 0 train loss:0.3386 train accuracy is:0.9112 validation accuracy is:0.8832\n",
      "Epoch: 0 train loss:0.1565 train accuracy is:0.9198 validation accuracy is:0.8932\n",
      "Epoch: 0 train loss:0.2124 train accuracy is:0.9194 validation accuracy is:0.8892\n",
      "Epoch: 0 train loss:0.4833 train accuracy is:0.9208 validation accuracy is:0.8906\n",
      "Epoch: 0 train loss:0.3169 train accuracy is:0.9260 validation accuracy is:0.8942\n",
      "Epoch: 0 train loss:0.3671 train accuracy is:0.9286 validation accuracy is:0.9006\n"
     ]
    }
   ],
   "source": [
    "for epoch in range(EPOCH):\n",
    "    for step,(x,y) in enumerate(train_loader):\n",
    "        x = x.view(-1,1,28,28)\n",
    "        bx = Variable(x)\n",
    "        by = Variable(y)\n",
    "        output = cnn(bx)\n",
    "        loss = loss_func(output, by)\n",
    "        optimizer.zero_grad()\n",
    "        loss.backward()\n",
    "        optimizer.step()\n",
    "        \n",
    "        if step%50 == 0:\n",
    "            val_y_predict = torch.max(cnn(val_x),1)[1].data\n",
    "            train_y_predict = torch.max(cnn(train_x[:5000,:,:,:]),1)[1].data\n",
    "            val_accuracy = sum(val_y_predict == val_y)/len(val_y)\n",
    "            train_accuracy = sum(train_y_predict == train_y[:5000])/len(train_y[:5000])\n",
    "            train_acc.append(train_accuracy)\n",
    "            val_acc.append(val_accuracy)\n",
    "            epochs.append(epoch)\n",
    "            train_loss.append(loss)\n",
    "            print('Epoch:',epoch,'train loss:%.4f' %loss.data[0],'train accuracy is:%.4f' %train_accuracy,'validation accuracy is:%.4f' %val_accuracy)\n",
    "\n"
   ]
  },
  {
   "cell_type": "code",
   "execution_count": null,
   "metadata": {},
   "outputs": [],
   "source": [
    "test_y_predict = torch.max(cnn(test_x),1)[1].data\n",
    "test_accuracy = sum(test_y_predict == test_y)/len(test_y)\n",
    "train_y_predict = torch.max(cnn(train_x),1)[1].data\n",
    "train_accuracy = sum(train_y_predict == train_y)/len(train_y)\n",
    "print('Final train loss:%.4f' %loss.data[0],'Final train accuracy is:%.4f' %train_accuracy,'Final test accuracy is:%.4f' %test_accuracy)\n",
    "        "
   ]
  },
  {
   "cell_type": "markdown",
   "metadata": {},
   "source": [
    "for param in fc.parameters():\n",
    "    print(type(param.data), param.size())"
   ]
  },
  {
   "cell_type": "code",
   "execution_count": null,
   "metadata": {},
   "outputs": [],
   "source": [
    "torch.save(cnn,'cnn.pkl')"
   ]
  },
  {
   "cell_type": "markdown",
   "metadata": {},
   "source": [
    "plt.plot(epochs,train_acc,'r',label = 'training accuracy')\n",
    "plt.plot(epochs,val_acc,'b',label= 'validation accuracy')\n",
    "plt.xlabel('epochs')\n",
    "plt.ylabel('accuracy')\n",
    "plt.legend()\n",
    "plt.show()"
   ]
  },
  {
   "cell_type": "markdown",
   "metadata": {},
   "source": [
    "plt.plot(epochs,[i.data[0] for i in train_loss])\n",
    "plt.xlabel('epochs')\n",
    "plt.ylabel('loss')\n",
    "plt.show()"
   ]
  },
  {
   "cell_type": "code",
   "execution_count": null,
   "metadata": {},
   "outputs": [],
   "source": []
  }
 ],
 "metadata": {
  "kernelspec": {
   "display_name": "Python 3",
   "language": "python",
   "name": "python3"
  },
  "language_info": {
   "codemirror_mode": {
    "name": "ipython",
    "version": 3
   },
   "file_extension": ".py",
   "mimetype": "text/x-python",
   "name": "python",
   "nbconvert_exporter": "python",
   "pygments_lexer": "ipython3",
   "version": "3.6.3"
  }
 },
 "nbformat": 4,
 "nbformat_minor": 2
}
