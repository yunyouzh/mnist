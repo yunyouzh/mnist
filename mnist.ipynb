{
 "cells": [
  {
   "cell_type": "markdown",
   "metadata": {},
   "source": [
    "import libraries"
   ]
  },
  {
   "cell_type": "code",
   "execution_count": 20,
   "metadata": {},
   "outputs": [],
   "source": [
    "import torch\n",
    "from torch.autograd import Variable\n",
    "import torch.nn as nn\n",
    "import torch.utils.data as Data\n",
    "import torchvision\n",
    "import matplotlib.pyplot as plt"
   ]
  },
  {
   "cell_type": "markdown",
   "metadata": {},
   "source": [
    "define hyperparameters"
   ]
  },
  {
   "cell_type": "code",
   "execution_count": 21,
   "metadata": {},
   "outputs": [],
   "source": [
    "EPOCH = 1000\n",
    "BATCH_SIZE = 64\n",
    "LR = 0.01"
   ]
  },
  {
   "cell_type": "markdown",
   "metadata": {},
   "source": [
    "download and import mnist data"
   ]
  },
  {
   "cell_type": "code",
   "execution_count": 22,
   "metadata": {},
   "outputs": [],
   "source": [
    "train_data = torchvision.datasets.MNIST(root='./',train=False,download=True,transform=torchvision.transforms.ToTensor())\n",
    "test_data = torchvision.datasets.MNIST(root='./',train=False,transform=torchvision.transforms.ToTensor())\n",
    "train_loader = Data.DataLoader(dataset=train_data,batch_size=BATCH_SIZE,shuffle=True,num_workers=2)\n",
    "train_x = Variable(train_data.test_data.view(-1,28*28)).type(torch.FloatTensor)\n",
    "train_y = train_data.test_labels\n",
    "alltest_x = Variable(test_data.test_data.view(-1, 28*28)).type(torch.FloatTensor)\n",
    "alltest_y = test_data.test_labels\n",
    "val_x = alltest_x[:5000]\n",
    "val_y = alltest_y[:5000]\n",
    "test_x = alltest_x[5000:]\n",
    "test_y = alltest_y[5000:]"
   ]
  },
  {
   "cell_type": "markdown",
   "metadata": {},
   "source": [
    "Define Fully Connected Neural Network"
   ]
  },
  {
   "cell_type": "code",
   "execution_count": 23,
   "metadata": {},
   "outputs": [],
   "source": [
    "class FCNets(nn.Module):\n",
    "    def __init__(self,nlist):\n",
    "        super(FCNets,self).__init__()\n",
    "        if len(nlist) < 2:\n",
    "            print('error:not enough layers')\n",
    "        else:\n",
    "            self.fc = nn.Sequential()\n",
    "            for n in range(len(nlist)-1):\n",
    "                self.fc.add_module('linear' + str(n+1), nn.Linear(in_features=nlist[n], out_features=nlist[n+1]))\n",
    "                self.fc.add_module('relu' + str(n+1), nn.ReLU())\n",
    "            #self.fc.add_module('softmax', nn.Softmax())\n",
    "    def forward(self,x):\n",
    "        return self.fc(x)"
   ]
  },
  {
   "cell_type": "markdown",
   "metadata": {},
   "source": [
    "Define Neural Net instance and optimizer, loss function"
   ]
  },
  {
   "cell_type": "code",
   "execution_count": 24,
   "metadata": {},
   "outputs": [
    {
     "name": "stdout",
     "output_type": "stream",
     "text": [
      "FCNets(\n",
      "  (fc): Sequential(\n",
      "    (linear1): Linear(in_features=784, out_features=32)\n",
      "    (relu1): ReLU()\n",
      "    (linear2): Linear(in_features=32, out_features=10)\n",
      "    (relu2): ReLU()\n",
      "  )\n",
      ")\n"
     ]
    }
   ],
   "source": [
    "fc = FCNets([28*28,32,10])\n",
    "print(fc)\n",
    "optimizer = torch.optim.SGD(params=fc.parameters(), lr=LR)\n",
    "loss_func = nn.CrossEntropyLoss()"
   ]
  },
  {
   "cell_type": "code",
   "execution_count": 25,
   "metadata": {},
   "outputs": [],
   "source": [
    "train_acc =  []\n",
    "val_acc = []\n",
    "epochs = []\n",
    "train_loss = []"
   ]
  },
  {
   "cell_type": "code",
   "execution_count": 26,
   "metadata": {},
   "outputs": [
    {
     "name": "stdout",
     "output_type": "stream",
     "text": [
      "Epoch: 0 train loss:2.0375 train accuracy is:0.3714 validation accuracy is:0.3634\n",
      "Epoch: 5 train loss:0.9116 train accuracy is:0.8042 validation accuracy is:0.7766\n",
      "Epoch: 10 train loss:0.7645 train accuracy is:0.8266 validation accuracy is:0.8006\n",
      "Epoch: 15 train loss:0.5938 train accuracy is:0.8352 validation accuracy is:0.8110\n",
      "Epoch: 20 train loss:0.3406 train accuracy is:0.8427 validation accuracy is:0.8188\n",
      "Epoch: 25 train loss:0.1568 train accuracy is:0.8443 validation accuracy is:0.8218\n",
      "Epoch: 30 train loss:0.4301 train accuracy is:0.8479 validation accuracy is:0.8276\n",
      "Epoch: 35 train loss:0.7241 train accuracy is:0.8497 validation accuracy is:0.8300\n",
      "Epoch: 40 train loss:0.0764 train accuracy is:0.8524 validation accuracy is:0.8328\n",
      "Epoch: 45 train loss:0.5645 train accuracy is:0.8539 validation accuracy is:0.8348\n",
      "Epoch: 50 train loss:0.4710 train accuracy is:0.8562 validation accuracy is:0.8380\n",
      "Epoch: 55 train loss:0.4364 train accuracy is:0.8571 validation accuracy is:0.8396\n",
      "Epoch: 60 train loss:0.7054 train accuracy is:0.8585 validation accuracy is:0.8420\n",
      "Epoch: 65 train loss:0.2538 train accuracy is:0.8585 validation accuracy is:0.8424\n",
      "Epoch: 70 train loss:0.3481 train accuracy is:0.8613 validation accuracy is:0.8450\n",
      "Epoch: 75 train loss:0.2648 train accuracy is:0.8606 validation accuracy is:0.8448\n",
      "Epoch: 80 train loss:0.2871 train accuracy is:0.8610 validation accuracy is:0.8454\n",
      "Epoch: 85 train loss:0.3503 train accuracy is:0.8618 validation accuracy is:0.8464\n",
      "Epoch: 90 train loss:0.3567 train accuracy is:0.8647 validation accuracy is:0.8508\n",
      "Epoch: 95 train loss:0.3599 train accuracy is:0.8640 validation accuracy is:0.8498\n",
      "Epoch: 100 train loss:0.1343 train accuracy is:0.9394 validation accuracy is:0.9236\n",
      "Epoch: 105 train loss:0.1626 train accuracy is:0.9394 validation accuracy is:0.9230\n",
      "Epoch: 110 train loss:0.1256 train accuracy is:0.9405 validation accuracy is:0.9230\n",
      "Epoch: 115 train loss:0.0729 train accuracy is:0.9427 validation accuracy is:0.9272\n",
      "Epoch: 120 train loss:0.0736 train accuracy is:0.9443 validation accuracy is:0.9282\n",
      "Epoch: 125 train loss:0.0165 train accuracy is:0.9482 validation accuracy is:0.9308\n",
      "Epoch: 130 train loss:0.0581 train accuracy is:0.9476 validation accuracy is:0.9304\n",
      "Epoch: 135 train loss:0.1302 train accuracy is:0.9478 validation accuracy is:0.9300\n",
      "Epoch: 140 train loss:0.3581 train accuracy is:0.9471 validation accuracy is:0.9298\n",
      "Epoch: 145 train loss:0.0332 train accuracy is:0.9498 validation accuracy is:0.9346\n",
      "Epoch: 150 train loss:0.0575 train accuracy is:0.9498 validation accuracy is:0.9336\n",
      "Epoch: 155 train loss:0.0596 train accuracy is:0.9518 validation accuracy is:0.9346\n",
      "Epoch: 160 train loss:0.0884 train accuracy is:0.9520 validation accuracy is:0.9350\n",
      "Epoch: 165 train loss:0.0562 train accuracy is:0.9542 validation accuracy is:0.9380\n",
      "Epoch: 170 train loss:0.0409 train accuracy is:0.9517 validation accuracy is:0.9346\n",
      "Epoch: 175 train loss:0.0288 train accuracy is:0.9537 validation accuracy is:0.9374\n",
      "Epoch: 180 train loss:0.0794 train accuracy is:0.9543 validation accuracy is:0.9376\n",
      "Epoch: 185 train loss:0.1838 train accuracy is:0.9553 validation accuracy is:0.9386\n",
      "Epoch: 190 train loss:0.0486 train accuracy is:0.9581 validation accuracy is:0.9430\n",
      "Epoch: 195 train loss:0.0368 train accuracy is:0.9576 validation accuracy is:0.9424\n",
      "Epoch: 200 train loss:0.0433 train accuracy is:0.9573 validation accuracy is:0.9414\n",
      "Epoch: 205 train loss:0.2907 train accuracy is:0.9570 validation accuracy is:0.9426\n",
      "Epoch: 210 train loss:0.0832 train accuracy is:0.9597 validation accuracy is:0.9446\n",
      "Epoch: 215 train loss:0.0489 train accuracy is:0.9601 validation accuracy is:0.9464\n",
      "Epoch: 220 train loss:0.0515 train accuracy is:0.9591 validation accuracy is:0.9434\n",
      "Epoch: 225 train loss:0.0238 train accuracy is:0.9612 validation accuracy is:0.9472\n",
      "Epoch: 230 train loss:0.0618 train accuracy is:0.9603 validation accuracy is:0.9450\n",
      "Epoch: 235 train loss:0.0081 train accuracy is:0.9620 validation accuracy is:0.9482\n",
      "Epoch: 240 train loss:0.0223 train accuracy is:0.9612 validation accuracy is:0.9464\n",
      "Epoch: 245 train loss:0.0198 train accuracy is:0.9641 validation accuracy is:0.9508\n",
      "Epoch: 250 train loss:0.3177 train accuracy is:0.9636 validation accuracy is:0.9502\n",
      "Epoch: 255 train loss:0.0394 train accuracy is:0.9638 validation accuracy is:0.9504\n",
      "Epoch: 260 train loss:0.0237 train accuracy is:0.9644 validation accuracy is:0.9512\n",
      "Epoch: 265 train loss:0.0505 train accuracy is:0.9646 validation accuracy is:0.9516\n",
      "Epoch: 270 train loss:0.0300 train accuracy is:0.9632 validation accuracy is:0.9492\n",
      "Epoch: 275 train loss:0.0281 train accuracy is:0.9668 validation accuracy is:0.9540\n",
      "Epoch: 280 train loss:0.1364 train accuracy is:0.9667 validation accuracy is:0.9542\n",
      "Epoch: 285 train loss:0.0149 train accuracy is:0.9681 validation accuracy is:0.9560\n",
      "Epoch: 290 train loss:0.0237 train accuracy is:0.9689 validation accuracy is:0.9564\n",
      "Epoch: 295 train loss:0.0034 train accuracy is:0.9687 validation accuracy is:0.9566\n",
      "Epoch: 300 train loss:0.0274 train accuracy is:0.9697 validation accuracy is:0.9576\n",
      "Epoch: 305 train loss:0.0553 train accuracy is:0.9690 validation accuracy is:0.9574\n",
      "Epoch: 310 train loss:0.0238 train accuracy is:0.9724 validation accuracy is:0.9604\n",
      "Epoch: 315 train loss:0.0406 train accuracy is:0.9715 validation accuracy is:0.9600\n",
      "Epoch: 320 train loss:0.0252 train accuracy is:0.9721 validation accuracy is:0.9606\n",
      "Epoch: 325 train loss:0.2311 train accuracy is:0.9715 validation accuracy is:0.9600\n",
      "Epoch: 330 train loss:0.0467 train accuracy is:0.9701 validation accuracy is:0.9578\n",
      "Epoch: 335 train loss:0.0834 train accuracy is:0.9727 validation accuracy is:0.9612\n",
      "Epoch: 340 train loss:0.0378 train accuracy is:0.9724 validation accuracy is:0.9608\n",
      "Epoch: 345 train loss:0.0340 train accuracy is:0.9745 validation accuracy is:0.9636\n",
      "Epoch: 350 train loss:0.0069 train accuracy is:0.9728 validation accuracy is:0.9614\n",
      "Epoch: 355 train loss:0.0424 train accuracy is:0.9737 validation accuracy is:0.9630\n",
      "Epoch: 360 train loss:0.0687 train accuracy is:0.9739 validation accuracy is:0.9628\n",
      "Epoch: 365 train loss:0.1219 train accuracy is:0.9773 validation accuracy is:0.9672\n",
      "Epoch: 370 train loss:0.0263 train accuracy is:0.9751 validation accuracy is:0.9648\n",
      "Epoch: 375 train loss:0.1284 train accuracy is:0.9769 validation accuracy is:0.9670\n",
      "Epoch: 380 train loss:0.0301 train accuracy is:0.9758 validation accuracy is:0.9652\n",
      "Epoch: 385 train loss:0.0097 train accuracy is:0.9770 validation accuracy is:0.9674\n",
      "Epoch: 390 train loss:0.0081 train accuracy is:0.9767 validation accuracy is:0.9672\n",
      "Epoch: 395 train loss:0.0855 train accuracy is:0.9781 validation accuracy is:0.9690\n",
      "Epoch: 400 train loss:0.0076 train accuracy is:0.9776 validation accuracy is:0.9678\n",
      "Epoch: 405 train loss:0.0779 train accuracy is:0.9775 validation accuracy is:0.9676\n",
      "Epoch: 410 train loss:0.0533 train accuracy is:0.9779 validation accuracy is:0.9682\n",
      "Epoch: 415 train loss:0.0013 train accuracy is:0.9790 validation accuracy is:0.9700\n",
      "Epoch: 420 train loss:0.0132 train accuracy is:0.9784 validation accuracy is:0.9690\n",
      "Epoch: 425 train loss:0.0248 train accuracy is:0.9788 validation accuracy is:0.9694\n",
      "Epoch: 430 train loss:0.0035 train accuracy is:0.9776 validation accuracy is:0.9678\n",
      "Epoch: 435 train loss:0.0197 train accuracy is:0.9789 validation accuracy is:0.9696\n",
      "Epoch: 440 train loss:0.0268 train accuracy is:0.9784 validation accuracy is:0.9690\n",
      "Epoch: 445 train loss:0.0156 train accuracy is:0.9800 validation accuracy is:0.9712\n",
      "Epoch: 450 train loss:0.0153 train accuracy is:0.9789 validation accuracy is:0.9698\n",
      "Epoch: 455 train loss:0.0708 train accuracy is:0.9803 validation accuracy is:0.9716\n",
      "Epoch: 460 train loss:0.0285 train accuracy is:0.9817 validation accuracy is:0.9734\n",
      "Epoch: 465 train loss:0.0858 train accuracy is:0.9818 validation accuracy is:0.9738\n",
      "Epoch: 470 train loss:0.0153 train accuracy is:0.9812 validation accuracy is:0.9732\n",
      "Epoch: 475 train loss:0.0129 train accuracy is:0.9807 validation accuracy is:0.9720\n",
      "Epoch: 480 train loss:0.0359 train accuracy is:0.9823 validation accuracy is:0.9748\n",
      "Epoch: 485 train loss:0.0276 train accuracy is:0.9818 validation accuracy is:0.9736\n",
      "Epoch: 490 train loss:0.0176 train accuracy is:0.9836 validation accuracy is:0.9766\n",
      "Epoch: 495 train loss:0.0192 train accuracy is:0.9819 validation accuracy is:0.9736\n",
      "Epoch: 500 train loss:0.0254 train accuracy is:0.9819 validation accuracy is:0.9738\n",
      "Epoch: 505 train loss:0.0192 train accuracy is:0.9835 validation accuracy is:0.9760\n",
      "Epoch: 510 train loss:0.0097 train accuracy is:0.9826 validation accuracy is:0.9750\n",
      "Epoch: 515 train loss:0.0116 train accuracy is:0.9821 validation accuracy is:0.9740\n",
      "Epoch: 520 train loss:0.0052 train accuracy is:0.9830 validation accuracy is:0.9752\n",
      "Epoch: 525 train loss:0.0152 train accuracy is:0.9848 validation accuracy is:0.9782\n",
      "Epoch: 530 train loss:0.0454 train accuracy is:0.9844 validation accuracy is:0.9778\n",
      "Epoch: 535 train loss:0.0216 train accuracy is:0.9838 validation accuracy is:0.9766\n",
      "Epoch: 540 train loss:0.0328 train accuracy is:0.9846 validation accuracy is:0.9780\n",
      "Epoch: 545 train loss:0.0227 train accuracy is:0.9857 validation accuracy is:0.9800\n",
      "Epoch: 550 train loss:0.0232 train accuracy is:0.9857 validation accuracy is:0.9800\n",
      "Epoch: 555 train loss:0.0112 train accuracy is:0.9863 validation accuracy is:0.9806\n",
      "Epoch: 560 train loss:0.0422 train accuracy is:0.9852 validation accuracy is:0.9790\n",
      "Epoch: 565 train loss:0.0041 train accuracy is:0.9871 validation accuracy is:0.9818\n",
      "Epoch: 570 train loss:0.2629 train accuracy is:0.9867 validation accuracy is:0.9808\n",
      "Epoch: 575 train loss:0.0091 train accuracy is:0.9865 validation accuracy is:0.9808\n",
      "Epoch: 580 train loss:0.0127 train accuracy is:0.9871 validation accuracy is:0.9818\n",
      "Epoch: 585 train loss:0.0096 train accuracy is:0.9864 validation accuracy is:0.9806\n",
      "Epoch: 590 train loss:0.0213 train accuracy is:0.9865 validation accuracy is:0.9806\n",
      "Epoch: 595 train loss:0.0197 train accuracy is:0.9869 validation accuracy is:0.9814\n",
      "Epoch: 600 train loss:0.0036 train accuracy is:0.9881 validation accuracy is:0.9828\n",
      "Epoch: 605 train loss:0.0003 train accuracy is:0.9881 validation accuracy is:0.9830\n",
      "Epoch: 610 train loss:0.0117 train accuracy is:0.9871 validation accuracy is:0.9820\n",
      "Epoch: 615 train loss:0.0073 train accuracy is:0.9878 validation accuracy is:0.9828\n",
      "Epoch: 620 train loss:0.0074 train accuracy is:0.9881 validation accuracy is:0.9828\n",
      "Epoch: 625 train loss:0.0026 train accuracy is:0.9878 validation accuracy is:0.9826\n",
      "Epoch: 630 train loss:0.0225 train accuracy is:0.9881 validation accuracy is:0.9828\n",
      "Epoch: 635 train loss:0.0084 train accuracy is:0.9875 validation accuracy is:0.9818\n",
      "Epoch: 640 train loss:0.0397 train accuracy is:0.9876 validation accuracy is:0.9822\n",
      "Epoch: 645 train loss:0.0317 train accuracy is:0.9892 validation accuracy is:0.9846\n",
      "Epoch: 650 train loss:0.0025 train accuracy is:0.9883 validation accuracy is:0.9832\n",
      "Epoch: 655 train loss:0.0109 train accuracy is:0.9890 validation accuracy is:0.9842\n",
      "Epoch: 660 train loss:0.0478 train accuracy is:0.9886 validation accuracy is:0.9836\n",
      "Epoch: 665 train loss:0.0148 train accuracy is:0.9884 validation accuracy is:0.9836\n",
      "Epoch: 670 train loss:0.0472 train accuracy is:0.9891 validation accuracy is:0.9846\n",
      "Epoch: 675 train loss:0.0088 train accuracy is:0.9897 validation accuracy is:0.9852\n",
      "Epoch: 680 train loss:0.0108 train accuracy is:0.9888 validation accuracy is:0.9838\n",
      "Epoch: 685 train loss:0.0041 train accuracy is:0.9891 validation accuracy is:0.9846\n",
      "Epoch: 690 train loss:0.0285 train accuracy is:0.9899 validation accuracy is:0.9850\n",
      "Epoch: 695 train loss:0.0109 train accuracy is:0.9890 validation accuracy is:0.9846\n",
      "Epoch: 700 train loss:0.0007 train accuracy is:0.9895 validation accuracy is:0.9852\n",
      "Epoch: 705 train loss:0.0146 train accuracy is:0.9896 validation accuracy is:0.9852\n",
      "Epoch: 710 train loss:0.0218 train accuracy is:0.9903 validation accuracy is:0.9858\n",
      "Epoch: 715 train loss:0.0014 train accuracy is:0.9894 validation accuracy is:0.9848\n",
      "Epoch: 720 train loss:0.0112 train accuracy is:0.9902 validation accuracy is:0.9858\n",
      "Epoch: 725 train loss:0.0229 train accuracy is:0.9903 validation accuracy is:0.9860\n",
      "Epoch: 730 train loss:0.0103 train accuracy is:0.9904 validation accuracy is:0.9862\n",
      "Epoch: 735 train loss:0.0190 train accuracy is:0.9896 validation accuracy is:0.9854\n",
      "Epoch: 740 train loss:0.0007 train accuracy is:0.9896 validation accuracy is:0.9852\n",
      "Epoch: 745 train loss:0.0101 train accuracy is:0.9902 validation accuracy is:0.9858\n",
      "Epoch: 750 train loss:0.0259 train accuracy is:0.9899 validation accuracy is:0.9854\n",
      "Epoch: 755 train loss:0.0057 train accuracy is:0.9902 validation accuracy is:0.9858\n",
      "Epoch: 760 train loss:0.0445 train accuracy is:0.9915 validation accuracy is:0.9880\n",
      "Epoch: 765 train loss:0.0092 train accuracy is:0.9902 validation accuracy is:0.9860\n",
      "Epoch: 770 train loss:0.0022 train accuracy is:0.9905 validation accuracy is:0.9860\n",
      "Epoch: 775 train loss:0.0039 train accuracy is:0.9903 validation accuracy is:0.9856\n",
      "Epoch: 780 train loss:0.0051 train accuracy is:0.9905 validation accuracy is:0.9860\n",
      "Epoch: 785 train loss:0.0057 train accuracy is:0.9904 validation accuracy is:0.9862\n",
      "Epoch: 790 train loss:0.0070 train accuracy is:0.9906 validation accuracy is:0.9862\n",
      "Epoch: 795 train loss:0.0057 train accuracy is:0.9908 validation accuracy is:0.9866\n",
      "Epoch: 800 train loss:0.0006 train accuracy is:0.9908 validation accuracy is:0.9866\n",
      "Epoch: 805 train loss:0.0224 train accuracy is:0.9911 validation accuracy is:0.9872\n",
      "Epoch: 810 train loss:0.0060 train accuracy is:0.9907 validation accuracy is:0.9864\n",
      "Epoch: 815 train loss:0.0043 train accuracy is:0.9909 validation accuracy is:0.9868\n",
      "Epoch: 820 train loss:0.0100 train accuracy is:0.9903 validation accuracy is:0.9858\n",
      "Epoch: 825 train loss:0.0045 train accuracy is:0.9906 validation accuracy is:0.9862\n",
      "Epoch: 830 train loss:0.0008 train accuracy is:0.9909 validation accuracy is:0.9868\n",
      "Epoch: 835 train loss:0.0097 train accuracy is:0.9910 validation accuracy is:0.9870\n",
      "Epoch: 840 train loss:0.0098 train accuracy is:0.9911 validation accuracy is:0.9870\n",
      "Epoch: 845 train loss:0.0069 train accuracy is:0.9911 validation accuracy is:0.9870\n",
      "Epoch: 850 train loss:0.0020 train accuracy is:0.9911 validation accuracy is:0.9872\n",
      "Epoch: 855 train loss:0.0095 train accuracy is:0.9912 validation accuracy is:0.9874\n",
      "Epoch: 860 train loss:0.0039 train accuracy is:0.9913 validation accuracy is:0.9876\n",
      "Epoch: 865 train loss:0.0130 train accuracy is:0.9913 validation accuracy is:0.9876\n",
      "Epoch: 870 train loss:0.0101 train accuracy is:0.9911 validation accuracy is:0.9872\n",
      "Epoch: 875 train loss:0.0039 train accuracy is:0.9908 validation accuracy is:0.9868\n",
      "Epoch: 880 train loss:0.0149 train accuracy is:0.9914 validation accuracy is:0.9878\n",
      "Epoch: 885 train loss:0.0175 train accuracy is:0.9920 validation accuracy is:0.9886\n",
      "Epoch: 890 train loss:0.0234 train accuracy is:0.9911 validation accuracy is:0.9872\n",
      "Epoch: 895 train loss:0.0076 train accuracy is:0.9915 validation accuracy is:0.9876\n",
      "Epoch: 900 train loss:0.0019 train accuracy is:0.9916 validation accuracy is:0.9878\n",
      "Epoch: 905 train loss:0.0010 train accuracy is:0.9922 validation accuracy is:0.9890\n",
      "Epoch: 910 train loss:0.0002 train accuracy is:0.9922 validation accuracy is:0.9890\n",
      "Epoch: 915 train loss:0.0045 train accuracy is:0.9917 validation accuracy is:0.9880\n",
      "Epoch: 920 train loss:0.0251 train accuracy is:0.9920 validation accuracy is:0.9886\n",
      "Epoch: 925 train loss:0.0005 train accuracy is:0.9925 validation accuracy is:0.9896\n",
      "Epoch: 930 train loss:0.0239 train accuracy is:0.9923 validation accuracy is:0.9892\n",
      "Epoch: 935 train loss:0.0062 train accuracy is:0.9925 validation accuracy is:0.9896\n",
      "Epoch: 940 train loss:0.0114 train accuracy is:0.9920 validation accuracy is:0.9886\n",
      "Epoch: 945 train loss:0.0026 train accuracy is:0.9924 validation accuracy is:0.9894\n",
      "Epoch: 950 train loss:0.0005 train accuracy is:0.9919 validation accuracy is:0.9884\n",
      "Epoch: 955 train loss:0.0053 train accuracy is:0.9924 validation accuracy is:0.9894\n",
      "Epoch: 960 train loss:0.0104 train accuracy is:0.9919 validation accuracy is:0.9886\n",
      "Epoch: 965 train loss:0.0065 train accuracy is:0.9926 validation accuracy is:0.9898\n",
      "Epoch: 970 train loss:0.0235 train accuracy is:0.9925 validation accuracy is:0.9894\n",
      "Epoch: 975 train loss:0.0142 train accuracy is:0.9925 validation accuracy is:0.9894\n",
      "Epoch: 980 train loss:0.0119 train accuracy is:0.9919 validation accuracy is:0.9886\n",
      "Epoch: 985 train loss:0.0070 train accuracy is:0.9925 validation accuracy is:0.9896\n",
      "Epoch: 990 train loss:0.0144 train accuracy is:0.9925 validation accuracy is:0.9898\n",
      "Epoch: 995 train loss:0.0076 train accuracy is:0.9925 validation accuracy is:0.9896\n"
     ]
    }
   ],
   "source": [
    "for epoch in range(EPOCH):\n",
    "    for step,(x,y) in enumerate(train_loader):\n",
    "        x = x.view(-1,28*28)\n",
    "        bx = Variable(x)\n",
    "        by = Variable(y)\n",
    "        output = fc(bx)\n",
    "        loss = loss_func(output, by)\n",
    "        optimizer.zero_grad()\n",
    "        loss.backward()\n",
    "        optimizer.step()\n",
    "        \n",
    "    if epoch%5 == 0:\n",
    "        val_y_predict = torch.max(fc(val_x),1)[1].data\n",
    "        train_y_predict = torch.max(fc(train_x),1)[1].data\n",
    "        val_accuracy = sum(val_y_predict == val_y)/len(val_y)\n",
    "        train_accuracy = sum(train_y_predict == train_y)/len(train_y)\n",
    "        train_acc.append(train_accuracy)\n",
    "        val_acc.append(val_accuracy)\n",
    "        epochs.append(epoch)\n",
    "        train_loss.append(loss)\n",
    "        print('Epoch:',epoch,'train loss:%.4f' %loss.data[0],'train accuracy is:%.4f' %train_accuracy,'validation accuracy is:%.4f' %val_accuracy)"
   ]
  },
  {
   "cell_type": "code",
   "execution_count": 27,
   "metadata": {},
   "outputs": [
    {
     "name": "stdout",
     "output_type": "stream",
     "text": [
      "Final train loss:0.0063 Final train accuracy is:0.9924 Final test accuracy is:0.9956\n"
     ]
    }
   ],
   "source": [
    "test_y_predict = torch.max(fc(test_x),1)[1].data\n",
    "test_accuracy = sum(test_y_predict == test_y)/len(test_y)\n",
    "train_y_predict = torch.max(fc(train_x),1)[1].data\n",
    "train_accuracy = sum(train_y_predict == train_y)/len(train_y)\n",
    "print('Final train loss:%.4f' %loss.data[0],'Final train accuracy is:%.4f' %train_accuracy,'Final test accuracy is:%.4f' %test_accuracy)\n",
    "        "
   ]
  },
  {
   "cell_type": "markdown",
   "metadata": {},
   "source": [
    "if neural nets size is 784 10\n",
    "with lr = 0.01 \n",
    "achieve accuracy of 92%\n",
    "if neural nets size is 784 32 10\n",
    "with lr = 0.01 epoch=1000\n",
    "achieve accuracy of 99.5%"
   ]
  },
  {
   "cell_type": "code",
   "execution_count": 28,
   "metadata": {},
   "outputs": [
    {
     "name": "stdout",
     "output_type": "stream",
     "text": [
      "<class 'torch.FloatTensor'> torch.Size([32, 784])\n",
      "<class 'torch.FloatTensor'> torch.Size([32])\n",
      "<class 'torch.FloatTensor'> torch.Size([10, 32])\n",
      "<class 'torch.FloatTensor'> torch.Size([10])\n"
     ]
    }
   ],
   "source": [
    "for param in fc.parameters():\n",
    "    print(type(param.data), param.size())"
   ]
  },
  {
   "cell_type": "code",
   "execution_count": 29,
   "metadata": {},
   "outputs": [
    {
     "name": "stderr",
     "output_type": "stream",
     "text": [
      "/home/yunyou/anaconda3/lib/python3.6/site-packages/torch/serialization.py:158: UserWarning: Couldn't retrieve source code for container of type FCNets. It won't be checked for correctness upon loading.\n",
      "  \"type \" + obj.__name__ + \". It won't be checked \"\n"
     ]
    }
   ],
   "source": [
    "torch.save(fc,'fc.pkl')"
   ]
  },
  {
   "cell_type": "code",
   "execution_count": 30,
   "metadata": {},
   "outputs": [
    {
     "data": {
      "image/png": "[encoded data removed]",
      "text/plain": [
       "<matplotlib.figure.Figure at 0x7f774ef2e208>"
      ]
     },
     "metadata": {},
     "output_type": "display_data"
    }
   ],
   "source": [
    "plt.plot(epochs,train_acc,'r',label = 'training accuracy')\n",
    "plt.plot(epochs,val_acc,'b',label= 'validation accuracy')\n",
    "plt.xlabel('epochs')\n",
    "plt.ylabel('accuracy')\n",
    "plt.legend()\n",
    "plt.show()"
   ]
  },
  {
   "cell_type": "code",
   "execution_count": 31,
   "metadata": {},
   "outputs": [
    {
     "data": {
      "image/png": "[encoded data removed]",
      "text/plain": [
       "<matplotlib.figure.Figure at 0x7f774ef2e438>"
      ]
     },
     "metadata": {},
     "output_type": "display_data"
    }
   ],
   "source": [
    "plt.plot(epochs,[i.data[0] for i in train_loss])\n",
    "plt.xlabel('epochs')\n",
    "plt.ylabel('loss')\n",
    "plt.show()"
   ]
  },
  {
   "cell_type": "code",
   "execution_count": null,
   "metadata": {},
   "outputs": [],
   "source": []
  }
 ],
 "metadata": {
  "kernelspec": {
   "display_name": "Python 3",
   "language": "python",
   "name": "python3"
  },
  "language_info": {
   "codemirror_mode": {
    "name": "ipython",
    "version": 3
   },
   "file_extension": ".py",
   "mimetype": "text/x-python",
   "name": "python",
   "nbconvert_exporter": "python",
   "pygments_lexer": "ipython3",
   "version": "3.6.3"
  }
 },
 "nbformat": 4,
 "nbformat_minor": 2
}
