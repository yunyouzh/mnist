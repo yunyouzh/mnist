{
 "cells": [
  {
   "cell_type": "markdown",
   "metadata": {},
   "source": [
    "import libraries"
   ]
  },
  {
   "cell_type": "code",
   "execution_count": 50,
   "metadata": {},
   "outputs": [],
   "source": [
    "import torch\n",
    "from torch.autograd import Variable\n",
    "import torch.nn as nn\n",
    "import torch.utils.data as Data\n",
    "import torchvision\n",
    "import matplotlib.pyplot as plt\n",
    "from functools import reduce"
   ]
  },
  {
   "cell_type": "markdown",
   "metadata": {},
   "source": [
    "define hyperparameters"
   ]
  },
  {
   "cell_type": "code",
   "execution_count": 51,
   "metadata": {},
   "outputs": [],
   "source": [
    "EPOCH = 1000\n",
    "BATCH_SIZE = 64\n",
    "LR = 0.01"
   ]
  },
  {
   "cell_type": "markdown",
   "metadata": {},
   "source": [
    "download and import mnist data"
   ]
  },
  {
   "cell_type": "code",
   "execution_count": 52,
   "metadata": {},
   "outputs": [],
   "source": [
    "train_data = torchvision.datasets.MNIST(root='./',train=False,download=True,transform=torchvision.transforms.ToTensor())\n",
    "test_data = torchvision.datasets.MNIST(root='./',train=False,transform=torchvision.transforms.ToTensor())\n",
    "train_loader = Data.DataLoader(dataset=train_data,batch_size=BATCH_SIZE,shuffle=True,num_workers=2)\n",
    "train_x = Variable(train_data.test_data.view(-1,28*28)).type(torch.FloatTensor)\n",
    "train_y = train_data.test_labels\n",
    "test_x = Variable(test_data.test_data.view(-1, 28*28)).type(torch.FloatTensor)\n",
    "test_y = test_data.test_labels"
   ]
  },
  {
   "cell_type": "markdown",
   "metadata": {},
   "source": [
    "Define Fully Connected Neural Network"
   ]
  },
  {
   "cell_type": "code",
   "execution_count": 53,
   "metadata": {},
   "outputs": [],
   "source": [
    "class FCNets(nn.Module):\n",
    "    def __init__(self,nlist):\n",
    "        super(FCNets,self).__init__()\n",
    "        if len(nlist) < 2:\n",
    "            print('error:not enough layers')\n",
    "        else:\n",
    "            self.fc = nn.Sequential()\n",
    "            for n in range(len(nlist)-1):\n",
    "                self.fc.add_module('linear' + str(n+1), nn.Linear(in_features=nlist[n], out_features=nlist[n+1]))\n",
    "                self.fc.add_module('relu' + str(n+1), nn.ReLU())\n",
    "            #self.fc.add_module('softmax', nn.Softmax())\n",
    "    def forward(self,x):\n",
    "        return self.fc(x)"
   ]
  },
  {
   "cell_type": "markdown",
   "metadata": {},
   "source": [
    "Define Neural Net instance and optimizer, loss function"
   ]
  },
  {
   "cell_type": "code",
   "execution_count": 54,
   "metadata": {},
   "outputs": [
    {
     "name": "stdout",
     "output_type": "stream",
     "text": [
      "FCNets(\n",
      "  (fc): Sequential(\n",
      "    (linear1): Linear(in_features=784, out_features=32)\n",
      "    (relu1): ReLU()\n",
      "    (linear2): Linear(in_features=32, out_features=10)\n",
      "    (relu2): ReLU()\n",
      "  )\n",
      ")\n"
     ]
    }
   ],
   "source": [
    "fc = FCNets([28*28,32,10])\n",
    "print(fc)\n",
    "optimizer = torch.optim.SGD(params=fc.parameters(), lr=LR)\n",
    "loss_func = nn.CrossEntropyLoss()"
   ]
  },
  {
   "cell_type": "code",
   "execution_count": 55,
   "metadata": {},
   "outputs": [],
   "source": [
    "train_acc =  []\n",
    "test_acc = []\n",
    "epochs = []\n",
    "train_loss = []"
   ]
  },
  {
   "cell_type": "code",
   "execution_count": 56,
   "metadata": {},
   "outputs": [
    {
     "name": "stdout",
     "output_type": "stream",
     "text": [
      "Epoch: 0 train loss:2.0856 train accuracy is:0.440 test accuracy is:0.440\n",
      "Epoch: 5 train loss:0.9137 train accuracy is:0.837 test accuracy is:0.837\n",
      "Epoch: 10 train loss:0.4119 train accuracy is:0.884 test accuracy is:0.884\n",
      "Epoch: 15 train loss:0.2136 train accuracy is:0.896 test accuracy is:0.896\n",
      "Epoch: 20 train loss:0.1852 train accuracy is:0.908 test accuracy is:0.908\n",
      "Epoch: 25 train loss:0.1410 train accuracy is:0.911 test accuracy is:0.911\n",
      "Epoch: 30 train loss:0.0971 train accuracy is:0.915 test accuracy is:0.915\n",
      "Epoch: 35 train loss:0.3928 train accuracy is:0.920 test accuracy is:0.920\n",
      "Epoch: 40 train loss:0.4202 train accuracy is:0.921 test accuracy is:0.921\n",
      "Epoch: 45 train loss:0.3545 train accuracy is:0.925 test accuracy is:0.925\n",
      "Epoch: 50 train loss:0.3864 train accuracy is:0.927 test accuracy is:0.927\n",
      "Epoch: 55 train loss:0.2877 train accuracy is:0.930 test accuracy is:0.930\n",
      "Epoch: 60 train loss:0.2945 train accuracy is:0.933 test accuracy is:0.933\n",
      "Epoch: 65 train loss:0.1151 train accuracy is:0.932 test accuracy is:0.932\n",
      "Epoch: 70 train loss:0.0413 train accuracy is:0.931 test accuracy is:0.931\n",
      "Epoch: 75 train loss:0.0477 train accuracy is:0.934 test accuracy is:0.934\n",
      "Epoch: 80 train loss:0.0417 train accuracy is:0.935 test accuracy is:0.935\n",
      "Epoch: 85 train loss:0.1361 train accuracy is:0.937 test accuracy is:0.937\n",
      "Epoch: 90 train loss:0.0335 train accuracy is:0.941 test accuracy is:0.941\n",
      "Epoch: 95 train loss:0.0715 train accuracy is:0.937 test accuracy is:0.937\n",
      "Epoch: 100 train loss:0.2205 train accuracy is:0.941 test accuracy is:0.941\n",
      "Epoch: 105 train loss:0.3730 train accuracy is:0.941 test accuracy is:0.941\n",
      "Epoch: 110 train loss:0.3771 train accuracy is:0.944 test accuracy is:0.944\n",
      "Epoch: 115 train loss:0.1822 train accuracy is:0.943 test accuracy is:0.943\n",
      "Epoch: 120 train loss:0.1019 train accuracy is:0.943 test accuracy is:0.943\n",
      "Epoch: 125 train loss:0.1248 train accuracy is:0.945 test accuracy is:0.945\n",
      "Epoch: 130 train loss:0.0987 train accuracy is:0.948 test accuracy is:0.948\n",
      "Epoch: 135 train loss:0.1848 train accuracy is:0.947 test accuracy is:0.947\n",
      "Epoch: 140 train loss:0.0622 train accuracy is:0.948 test accuracy is:0.948\n",
      "Epoch: 145 train loss:0.1504 train accuracy is:0.948 test accuracy is:0.948\n",
      "Epoch: 150 train loss:0.4214 train accuracy is:0.954 test accuracy is:0.954\n",
      "Epoch: 155 train loss:0.0416 train accuracy is:0.952 test accuracy is:0.952\n",
      "Epoch: 160 train loss:0.0152 train accuracy is:0.953 test accuracy is:0.953\n",
      "Epoch: 165 train loss:0.1767 train accuracy is:0.954 test accuracy is:0.954\n",
      "Epoch: 170 train loss:0.0827 train accuracy is:0.957 test accuracy is:0.957\n",
      "Epoch: 175 train loss:0.0628 train accuracy is:0.957 test accuracy is:0.957\n",
      "Epoch: 180 train loss:0.3470 train accuracy is:0.958 test accuracy is:0.958\n",
      "Epoch: 185 train loss:0.0391 train accuracy is:0.956 test accuracy is:0.956\n",
      "Epoch: 190 train loss:0.0477 train accuracy is:0.960 test accuracy is:0.960\n",
      "Epoch: 195 train loss:0.0936 train accuracy is:0.961 test accuracy is:0.961\n",
      "Epoch: 200 train loss:0.0145 train accuracy is:0.962 test accuracy is:0.962\n",
      "Epoch: 205 train loss:0.0703 train accuracy is:0.962 test accuracy is:0.962\n",
      "Epoch: 210 train loss:0.0391 train accuracy is:0.965 test accuracy is:0.965\n",
      "Epoch: 215 train loss:0.0702 train accuracy is:0.965 test accuracy is:0.965\n",
      "Epoch: 220 train loss:0.0472 train accuracy is:0.966 test accuracy is:0.966\n",
      "Epoch: 225 train loss:0.3724 train accuracy is:0.965 test accuracy is:0.965\n",
      "Epoch: 230 train loss:0.0395 train accuracy is:0.965 test accuracy is:0.965\n",
      "Epoch: 235 train loss:0.1430 train accuracy is:0.969 test accuracy is:0.969\n",
      "Epoch: 240 train loss:0.0052 train accuracy is:0.967 test accuracy is:0.967\n",
      "Epoch: 245 train loss:0.0423 train accuracy is:0.968 test accuracy is:0.968\n",
      "Epoch: 250 train loss:0.0719 train accuracy is:0.970 test accuracy is:0.970\n",
      "Epoch: 255 train loss:0.1830 train accuracy is:0.970 test accuracy is:0.970\n",
      "Epoch: 260 train loss:0.0243 train accuracy is:0.972 test accuracy is:0.972\n",
      "Epoch: 265 train loss:0.0059 train accuracy is:0.972 test accuracy is:0.972\n",
      "Epoch: 270 train loss:0.0341 train accuracy is:0.973 test accuracy is:0.973\n",
      "Epoch: 275 train loss:0.0059 train accuracy is:0.971 test accuracy is:0.971\n",
      "Epoch: 280 train loss:0.0237 train accuracy is:0.975 test accuracy is:0.975\n",
      "Epoch: 285 train loss:0.0528 train accuracy is:0.973 test accuracy is:0.973\n",
      "Epoch: 290 train loss:0.0806 train accuracy is:0.972 test accuracy is:0.972\n",
      "Epoch: 295 train loss:0.0569 train accuracy is:0.975 test accuracy is:0.975\n",
      "Epoch: 300 train loss:0.0766 train accuracy is:0.974 test accuracy is:0.974\n",
      "Epoch: 305 train loss:0.0084 train accuracy is:0.977 test accuracy is:0.977\n",
      "Epoch: 310 train loss:0.0572 train accuracy is:0.976 test accuracy is:0.976\n",
      "Epoch: 315 train loss:0.0546 train accuracy is:0.977 test accuracy is:0.977\n",
      "Epoch: 320 train loss:0.0090 train accuracy is:0.975 test accuracy is:0.975\n",
      "Epoch: 325 train loss:0.0338 train accuracy is:0.976 test accuracy is:0.976\n",
      "Epoch: 330 train loss:0.0633 train accuracy is:0.976 test accuracy is:0.976\n",
      "Epoch: 335 train loss:0.0598 train accuracy is:0.979 test accuracy is:0.979\n",
      "Epoch: 340 train loss:0.0519 train accuracy is:0.981 test accuracy is:0.981\n",
      "Epoch: 345 train loss:0.0439 train accuracy is:0.979 test accuracy is:0.979\n",
      "Epoch: 350 train loss:0.0436 train accuracy is:0.981 test accuracy is:0.981\n",
      "Epoch: 355 train loss:0.0212 train accuracy is:0.980 test accuracy is:0.980\n",
      "Epoch: 360 train loss:0.0375 train accuracy is:0.981 test accuracy is:0.981\n",
      "Epoch: 365 train loss:0.1122 train accuracy is:0.981 test accuracy is:0.981\n",
      "Epoch: 370 train loss:0.1260 train accuracy is:0.980 test accuracy is:0.980\n",
      "Epoch: 375 train loss:0.0147 train accuracy is:0.982 test accuracy is:0.982\n",
      "Epoch: 380 train loss:0.0176 train accuracy is:0.983 test accuracy is:0.983\n",
      "Epoch: 385 train loss:0.0639 train accuracy is:0.982 test accuracy is:0.982\n",
      "Epoch: 390 train loss:0.0414 train accuracy is:0.983 test accuracy is:0.983\n",
      "Epoch: 395 train loss:0.0120 train accuracy is:0.983 test accuracy is:0.983\n",
      "Epoch: 400 train loss:0.0729 train accuracy is:0.985 test accuracy is:0.985\n",
      "Epoch: 405 train loss:0.0141 train accuracy is:0.985 test accuracy is:0.985\n",
      "Epoch: 410 train loss:0.0362 train accuracy is:0.984 test accuracy is:0.984\n",
      "Epoch: 415 train loss:0.0837 train accuracy is:0.984 test accuracy is:0.984\n",
      "Epoch: 420 train loss:0.0555 train accuracy is:0.983 test accuracy is:0.983\n",
      "Epoch: 425 train loss:0.0361 train accuracy is:0.985 test accuracy is:0.985\n",
      "Epoch: 430 train loss:0.0513 train accuracy is:0.985 test accuracy is:0.985\n",
      "Epoch: 435 train loss:0.0621 train accuracy is:0.985 test accuracy is:0.985\n",
      "Epoch: 440 train loss:0.0029 train accuracy is:0.985 test accuracy is:0.985\n",
      "Epoch: 445 train loss:0.0490 train accuracy is:0.985 test accuracy is:0.985\n",
      "Epoch: 450 train loss:0.0267 train accuracy is:0.986 test accuracy is:0.986\n",
      "Epoch: 455 train loss:0.0007 train accuracy is:0.985 test accuracy is:0.985\n",
      "Epoch: 460 train loss:0.2544 train accuracy is:0.986 test accuracy is:0.986\n",
      "Epoch: 465 train loss:0.0204 train accuracy is:0.986 test accuracy is:0.986\n",
      "Epoch: 470 train loss:0.0043 train accuracy is:0.987 test accuracy is:0.987\n",
      "Epoch: 475 train loss:0.0127 train accuracy is:0.987 test accuracy is:0.987\n",
      "Epoch: 480 train loss:0.0261 train accuracy is:0.987 test accuracy is:0.987\n",
      "Epoch: 485 train loss:0.0056 train accuracy is:0.987 test accuracy is:0.987\n",
      "Epoch: 490 train loss:0.0603 train accuracy is:0.988 test accuracy is:0.988\n",
      "Epoch: 495 train loss:0.0712 train accuracy is:0.988 test accuracy is:0.988\n",
      "Epoch: 500 train loss:0.0315 train accuracy is:0.987 test accuracy is:0.987\n",
      "Epoch: 505 train loss:0.0374 train accuracy is:0.988 test accuracy is:0.988\n",
      "Epoch: 510 train loss:0.0336 train accuracy is:0.988 test accuracy is:0.988\n",
      "Epoch: 515 train loss:0.0353 train accuracy is:0.988 test accuracy is:0.988\n",
      "Epoch: 520 train loss:0.0775 train accuracy is:0.989 test accuracy is:0.989\n",
      "Epoch: 525 train loss:0.0013 train accuracy is:0.988 test accuracy is:0.988\n",
      "Epoch: 530 train loss:0.0220 train accuracy is:0.989 test accuracy is:0.989\n",
      "Epoch: 535 train loss:0.0059 train accuracy is:0.988 test accuracy is:0.988\n",
      "Epoch: 540 train loss:0.0053 train accuracy is:0.989 test accuracy is:0.989\n",
      "Epoch: 545 train loss:0.0033 train accuracy is:0.989 test accuracy is:0.989\n",
      "Epoch: 550 train loss:0.0296 train accuracy is:0.989 test accuracy is:0.989\n",
      "Epoch: 555 train loss:0.0374 train accuracy is:0.989 test accuracy is:0.989\n",
      "Epoch: 560 train loss:0.0267 train accuracy is:0.988 test accuracy is:0.988\n",
      "Epoch: 565 train loss:0.0392 train accuracy is:0.989 test accuracy is:0.989\n",
      "Epoch: 570 train loss:0.0087 train accuracy is:0.990 test accuracy is:0.990\n",
      "Epoch: 575 train loss:0.0217 train accuracy is:0.990 test accuracy is:0.990\n",
      "Epoch: 580 train loss:0.0438 train accuracy is:0.989 test accuracy is:0.989\n",
      "Epoch: 585 train loss:0.0196 train accuracy is:0.990 test accuracy is:0.990\n",
      "Epoch: 590 train loss:0.0197 train accuracy is:0.990 test accuracy is:0.990\n",
      "Epoch: 595 train loss:0.0211 train accuracy is:0.991 test accuracy is:0.991\n",
      "Epoch: 600 train loss:0.0578 train accuracy is:0.990 test accuracy is:0.990\n",
      "Epoch: 605 train loss:0.0028 train accuracy is:0.990 test accuracy is:0.990\n",
      "Epoch: 610 train loss:0.0105 train accuracy is:0.990 test accuracy is:0.990\n",
      "Epoch: 615 train loss:0.0138 train accuracy is:0.991 test accuracy is:0.991\n",
      "Epoch: 620 train loss:0.0076 train accuracy is:0.990 test accuracy is:0.990\n",
      "Epoch: 625 train loss:0.0078 train accuracy is:0.991 test accuracy is:0.991\n",
      "Epoch: 630 train loss:0.0106 train accuracy is:0.991 test accuracy is:0.991\n",
      "Epoch: 635 train loss:0.0195 train accuracy is:0.991 test accuracy is:0.991\n",
      "Epoch: 640 train loss:0.0176 train accuracy is:0.991 test accuracy is:0.991\n",
      "Epoch: 645 train loss:0.0061 train accuracy is:0.991 test accuracy is:0.991\n",
      "Epoch: 650 train loss:0.0275 train accuracy is:0.991 test accuracy is:0.991\n",
      "Epoch: 655 train loss:0.0048 train accuracy is:0.991 test accuracy is:0.991\n",
      "Epoch: 660 train loss:0.0029 train accuracy is:0.992 test accuracy is:0.992\n",
      "Epoch: 665 train loss:0.0075 train accuracy is:0.991 test accuracy is:0.991\n",
      "Epoch: 670 train loss:0.0061 train accuracy is:0.991 test accuracy is:0.991\n",
      "Epoch: 675 train loss:0.0164 train accuracy is:0.992 test accuracy is:0.992\n",
      "Epoch: 680 train loss:0.0134 train accuracy is:0.992 test accuracy is:0.992\n",
      "Epoch: 685 train loss:0.0070 train accuracy is:0.992 test accuracy is:0.992\n",
      "Epoch: 690 train loss:0.0017 train accuracy is:0.992 test accuracy is:0.992\n",
      "Epoch: 695 train loss:0.0010 train accuracy is:0.992 test accuracy is:0.992\n",
      "Epoch: 700 train loss:0.0190 train accuracy is:0.992 test accuracy is:0.992\n",
      "Epoch: 705 train loss:0.0147 train accuracy is:0.992 test accuracy is:0.992\n",
      "Epoch: 710 train loss:0.0178 train accuracy is:0.993 test accuracy is:0.993\n",
      "Epoch: 715 train loss:0.0063 train accuracy is:0.992 test accuracy is:0.992\n",
      "Epoch: 720 train loss:0.0216 train accuracy is:0.992 test accuracy is:0.992\n",
      "Epoch: 725 train loss:0.0149 train accuracy is:0.992 test accuracy is:0.992\n",
      "Epoch: 730 train loss:0.0159 train accuracy is:0.992 test accuracy is:0.992\n",
      "Epoch: 735 train loss:0.0147 train accuracy is:0.992 test accuracy is:0.992\n",
      "Epoch: 740 train loss:0.0030 train accuracy is:0.993 test accuracy is:0.993\n",
      "Epoch: 745 train loss:0.0120 train accuracy is:0.992 test accuracy is:0.992\n",
      "Epoch: 750 train loss:0.0102 train accuracy is:0.993 test accuracy is:0.993\n",
      "Epoch: 755 train loss:0.0027 train accuracy is:0.993 test accuracy is:0.993\n",
      "Epoch: 760 train loss:0.0029 train accuracy is:0.993 test accuracy is:0.993\n",
      "Epoch: 765 train loss:0.0037 train accuracy is:0.993 test accuracy is:0.993\n",
      "Epoch: 770 train loss:0.0279 train accuracy is:0.993 test accuracy is:0.993\n",
      "Epoch: 775 train loss:0.0072 train accuracy is:0.993 test accuracy is:0.993\n",
      "Epoch: 780 train loss:0.0003 train accuracy is:0.992 test accuracy is:0.992\n",
      "Epoch: 785 train loss:0.0066 train accuracy is:0.993 test accuracy is:0.993\n",
      "Epoch: 790 train loss:0.0102 train accuracy is:0.993 test accuracy is:0.993\n",
      "Epoch: 795 train loss:0.0085 train accuracy is:0.993 test accuracy is:0.993\n",
      "Epoch: 800 train loss:0.0221 train accuracy is:0.993 test accuracy is:0.993\n",
      "Epoch: 805 train loss:0.0057 train accuracy is:0.993 test accuracy is:0.993\n",
      "Epoch: 810 train loss:0.0057 train accuracy is:0.993 test accuracy is:0.993\n",
      "Epoch: 815 train loss:0.0031 train accuracy is:0.993 test accuracy is:0.993\n",
      "Epoch: 820 train loss:0.0067 train accuracy is:0.993 test accuracy is:0.993\n",
      "Epoch: 825 train loss:0.0094 train accuracy is:0.993 test accuracy is:0.993\n",
      "Epoch: 830 train loss:0.0011 train accuracy is:0.993 test accuracy is:0.993\n",
      "Epoch: 835 train loss:0.0137 train accuracy is:0.993 test accuracy is:0.993\n",
      "Epoch: 840 train loss:0.0160 train accuracy is:0.993 test accuracy is:0.993\n",
      "Epoch: 845 train loss:0.0103 train accuracy is:0.993 test accuracy is:0.993\n",
      "Epoch: 850 train loss:0.0054 train accuracy is:0.994 test accuracy is:0.994\n",
      "Epoch: 855 train loss:0.0105 train accuracy is:0.994 test accuracy is:0.994\n",
      "Epoch: 860 train loss:0.0098 train accuracy is:0.994 test accuracy is:0.994\n",
      "Epoch: 865 train loss:0.0077 train accuracy is:0.994 test accuracy is:0.994\n",
      "Epoch: 870 train loss:0.0184 train accuracy is:0.994 test accuracy is:0.994\n",
      "Epoch: 875 train loss:0.0096 train accuracy is:0.994 test accuracy is:0.994\n",
      "Epoch: 880 train loss:0.0187 train accuracy is:0.994 test accuracy is:0.994\n",
      "Epoch: 885 train loss:0.0083 train accuracy is:0.994 test accuracy is:0.994\n",
      "Epoch: 890 train loss:0.0133 train accuracy is:0.994 test accuracy is:0.994\n",
      "Epoch: 895 train loss:0.0285 train accuracy is:0.994 test accuracy is:0.994\n",
      "Epoch: 900 train loss:0.0091 train accuracy is:0.994 test accuracy is:0.994\n",
      "Epoch: 905 train loss:0.0074 train accuracy is:0.994 test accuracy is:0.994\n",
      "Epoch: 910 train loss:0.0154 train accuracy is:0.995 test accuracy is:0.995\n",
      "Epoch: 915 train loss:0.0119 train accuracy is:0.994 test accuracy is:0.994\n",
      "Epoch: 920 train loss:0.0128 train accuracy is:0.994 test accuracy is:0.994\n",
      "Epoch: 925 train loss:0.0029 train accuracy is:0.995 test accuracy is:0.995\n",
      "Epoch: 930 train loss:0.0002 train accuracy is:0.995 test accuracy is:0.995\n",
      "Epoch: 935 train loss:0.0082 train accuracy is:0.994 test accuracy is:0.994\n",
      "Epoch: 940 train loss:0.0009 train accuracy is:0.995 test accuracy is:0.995\n",
      "Epoch: 945 train loss:0.0033 train accuracy is:0.995 test accuracy is:0.995\n",
      "Epoch: 950 train loss:0.0006 train accuracy is:0.995 test accuracy is:0.995\n",
      "Epoch: 955 train loss:0.0093 train accuracy is:0.995 test accuracy is:0.995\n",
      "Epoch: 960 train loss:0.0104 train accuracy is:0.995 test accuracy is:0.995\n",
      "Epoch: 965 train loss:0.0149 train accuracy is:0.995 test accuracy is:0.995\n",
      "Epoch: 970 train loss:0.0055 train accuracy is:0.995 test accuracy is:0.995\n",
      "Epoch: 975 train loss:0.0028 train accuracy is:0.995 test accuracy is:0.995\n",
      "Epoch: 980 train loss:0.0109 train accuracy is:0.995 test accuracy is:0.995\n",
      "Epoch: 985 train loss:0.0049 train accuracy is:0.995 test accuracy is:0.995\n",
      "Epoch: 990 train loss:0.0109 train accuracy is:0.995 test accuracy is:0.995\n",
      "Epoch: 995 train loss:0.0059 train accuracy is:0.995 test accuracy is:0.995\n"
     ]
    }
   ],
   "source": [
    "for epoch in range(EPOCH):\n",
    "    for step,(x,y) in enumerate(train_loader):\n",
    "        x = x.view(-1,28*28)\n",
    "        bx = Variable(x)\n",
    "        by = Variable(y)\n",
    "        output = fc(bx)\n",
    "        loss = loss_func(output, by)\n",
    "        optimizer.zero_grad()\n",
    "        loss.backward()\n",
    "        optimizer.step()\n",
    "        \n",
    "    if epoch%5 == 0:\n",
    "        test_y_predict = torch.max(fc(test_x),1)[1].data\n",
    "        train_y_predict = torch.max(fc(train_x),1)[1].data\n",
    "        test_accuracy = sum(test_y_predict == test_y)/len(test_y)\n",
    "        train_accuracy = sum(train_y_predict == train_y)/len(train_y)\n",
    "        train_acc.append(train_accuracy)\n",
    "        test_acc.append(test_accuracy)\n",
    "        epochs.append(epoch)\n",
    "        train_loss.append(loss)\n",
    "        print('Epoch:',epoch,'train loss:%.4f' %loss.data[0],'train accuracy is:%.3f' %train_accuracy,'test accuracy is:%.3f' %test_accuracy)\n",
    "        "
   ]
  },
  {
   "cell_type": "markdown",
   "metadata": {},
   "source": [
    "if neural nets size is 784 10\n",
    "with lr = 0.01 \n",
    "achieve accuracy of 92%\n",
    "if neural nets size is 784 32 10\n",
    "with lr = 0.01 epoch=1000\n",
    "achieve accuracy of 99.5%"
   ]
  },
  {
   "cell_type": "code",
   "execution_count": 57,
   "metadata": {},
   "outputs": [
    {
     "name": "stdout",
     "output_type": "stream",
     "text": [
      "<class 'torch.FloatTensor'> torch.Size([32, 784])\n",
      "<class 'torch.FloatTensor'> torch.Size([32])\n",
      "<class 'torch.FloatTensor'> torch.Size([10, 32])\n",
      "<class 'torch.FloatTensor'> torch.Size([10])\n"
     ]
    }
   ],
   "source": [
    "for param in fc.parameters():\n",
    "    print(type(param.data), param.size())"
   ]
  },
  {
   "cell_type": "code",
   "execution_count": 58,
   "metadata": {},
   "outputs": [
    {
     "name": "stderr",
     "output_type": "stream",
     "text": [
      "/home/yunyou/anaconda3/lib/python3.6/site-packages/torch/serialization.py:158: UserWarning: Couldn't retrieve source code for container of type FCNets. It won't be checked for correctness upon loading.\n",
      "  \"type \" + obj.__name__ + \". It won't be checked \"\n"
     ]
    }
   ],
   "source": [
    "torch.save(fc,'fc.pkl')"
   ]
  },
  {
   "cell_type": "code",
   "execution_count": 64,
   "metadata": {},
   "outputs": [
    {
     "data": {
      "image/png": "[encoded data removed]",
      "text/plain": [
       "<matplotlib.figure.Figure at 0x7fc19a0b1128>"
      ]
     },
     "metadata": {},
     "output_type": "display_data"
    }
   ],
   "source": [
    "plt.plot(epochs,train_acc,'r',label = 'training accuracy')\n",
    "plt.plot(epochs,test_acc,'b',label= 'testing accuracy')\n",
    "plt.xlabel('epochs')\n",
    "plt.ylabel('accuracy')\n",
    "plt.legend()\n",
    "plt.show()"
   ]
  },
  {
   "cell_type": "code",
   "execution_count": 65,
   "metadata": {},
   "outputs": [
    {
     "data": {
      "image/png": "[encoded data removed]",
      "text/plain": [
       "<matplotlib.figure.Figure at 0x7fc19a092198>"
      ]
     },
     "metadata": {},
     "output_type": "display_data"
    }
   ],
   "source": [
    "plt.plot(epochs,[i.data[0] for i in train_loss])\n",
    "plt.xlabel('epochs')\n",
    "plt.ylabel('loss')\n",
    "plt.show()"
   ]
  },
  {
   "cell_type": "code",
   "execution_count": null,
   "metadata": {},
   "outputs": [],
   "source": []
  }
 ],
 "metadata": {
  "kernelspec": {
   "display_name": "Python 3",
   "language": "python",
   "name": "python3"
  },
  "language_info": {
   "codemirror_mode": {
    "name": "ipython",
    "version": 3
   },
   "file_extension": ".py",
   "mimetype": "text/x-python",
   "name": "python",
   "nbconvert_exporter": "python",
   "pygments_lexer": "ipython3",
   "version": "3.6.3"
  }
 },
 "nbformat": 4,
 "nbformat_minor": 2
}
