{
 "cells": [
  {
   "cell_type": "markdown",
   "metadata": {},
   "source": [
    "import libraries"
   ]
  },
  {
   "cell_type": "code",
   "execution_count": 13,
   "metadata": {},
   "outputs": [],
   "source": [
    "import torch\n",
    "from torch.autograd import Variable\n",
    "import torch.nn as nn\n",
    "import torch.utils.data as Data\n",
    "import torchvision\n",
    "import matplotlib.pyplot as plt"
   ]
  },
  {
   "cell_type": "markdown",
   "metadata": {},
   "source": [
    "define hyperparameters"
   ]
  },
  {
   "cell_type": "code",
   "execution_count": 14,
   "metadata": {},
   "outputs": [],
   "source": [
    "EPOCH = 100\n",
    "BATCH_SIZE = 64\n",
    "LR = 0.01"
   ]
  },
  {
   "cell_type": "markdown",
   "metadata": {},
   "source": [
    "download and import mnist data"
   ]
  },
  {
   "cell_type": "code",
   "execution_count": 15,
   "metadata": {},
   "outputs": [],
   "source": [
    "train_data = torchvision.datasets.MNIST(root='./',train=True,download=False,transform=torchvision.transforms.ToTensor())\n",
    "test_data = torchvision.datasets.MNIST(root='./',train=False,transform=torchvision.transforms.ToTensor())\n",
    "train_loader = Data.DataLoader(dataset=train_data,batch_size=BATCH_SIZE,shuffle=True,num_workers=2)\n",
    "train_x = Variable(train_data.train_data.view(-1,28*28)).type(torch.FloatTensor)\n",
    "train_y = train_data.train_labels\n",
    "alltest_x = Variable(test_data.test_data.view(-1, 28*28)).type(torch.FloatTensor)\n",
    "alltest_y = test_data.test_labels\n",
    "val_x = alltest_x[:5000]\n",
    "val_y = alltest_y[:5000]\n",
    "test_x = alltest_x[5000:]\n",
    "test_y = alltest_y[5000:]"
   ]
  },
  {
   "cell_type": "code",
   "execution_count": 16,
   "metadata": {},
   "outputs": [
    {
     "name": "stdout",
     "output_type": "stream",
     "text": [
      "                0\n",
      "count  5000.00000\n",
      "mean      4.47180\n",
      "std       2.88965\n",
      "min       0.00000\n",
      "25%       2.00000\n",
      "50%       4.00000\n",
      "75%       7.00000\n",
      "max       9.00000\n",
      "                  0\n",
      "count  60000.000000\n",
      "mean       4.453933\n",
      "std        2.889270\n",
      "min        0.000000\n",
      "25%        2.000000\n",
      "50%        4.000000\n",
      "75%        7.000000\n",
      "max        9.000000\n",
      "                 0\n",
      "count  5000.000000\n",
      "mean      4.415000\n",
      "std       2.902078\n",
      "min       0.000000\n",
      "25%       2.000000\n",
      "50%       4.000000\n",
      "75%       7.000000\n",
      "max       9.000000\n"
     ]
    }
   ],
   "source": [
    "import numpy as np\n",
    "import pandas as pd\n",
    "y = val_y.numpy()\n",
    "y1 = train_y.numpy()\n",
    "y2 = test_y.numpy()\n",
    "d = pd.DataFrame(y)\n",
    "d1 = pd.DataFrame(y1)\n",
    "d2 = pd.DataFrame(y2)\n",
    "print(d.describe())\n",
    "print(d1.describe())\n",
    "print(d2.describe())"
   ]
  },
  {
   "cell_type": "markdown",
   "metadata": {},
   "source": [
    "Define Fully Connected Neural Network"
   ]
  },
  {
   "cell_type": "code",
   "execution_count": 17,
   "metadata": {},
   "outputs": [],
   "source": [
    "class FCNets(nn.Module):\n",
    "    def __init__(self,nlist):\n",
    "        super(FCNets,self).__init__()\n",
    "        if len(nlist) < 2:\n",
    "            print('error:not enough layers')\n",
    "        else:\n",
    "            self.fc = nn.Sequential()\n",
    "            for n in range(len(nlist)-1):\n",
    "                self.fc.add_module('linear' + str(n+1), nn.Linear(in_features=nlist[n], out_features=nlist[n+1]))\n",
    "                self.fc.add_module('relu' + str(n+1), nn.ReLU())\n",
    "            #self.fc.add_module('softmax', nn.Softmax())\n",
    "    def forward(self,x):\n",
    "        return self.fc(x)"
   ]
  },
  {
   "cell_type": "markdown",
   "metadata": {},
   "source": [
    "Define Neural Net instance and optimizer, loss function"
   ]
  },
  {
   "cell_type": "code",
   "execution_count": 18,
   "metadata": {},
   "outputs": [
    {
     "name": "stdout",
     "output_type": "stream",
     "text": [
      "FCNets(\n",
      "  (fc): Sequential(\n",
      "    (linear1): Linear(in_features=784, out_features=32)\n",
      "    (relu1): ReLU()\n",
      "    (linear2): Linear(in_features=32, out_features=10)\n",
      "    (relu2): ReLU()\n",
      "  )\n",
      ")\n"
     ]
    }
   ],
   "source": [
    "fc = FCNets([28*28,32,10])\n",
    "print(fc)\n",
    "optimizer = torch.optim.SGD(params=fc.parameters(), lr=LR)\n",
    "loss_func = nn.CrossEntropyLoss()"
   ]
  },
  {
   "cell_type": "code",
   "execution_count": 19,
   "metadata": {},
   "outputs": [],
   "source": [
    "train_acc =  []\n",
    "val_acc = []\n",
    "epochs = []\n",
    "train_loss = []"
   ]
  },
  {
   "cell_type": "code",
   "execution_count": 20,
   "metadata": {},
   "outputs": [
    {
     "name": "stdout",
     "output_type": "stream",
     "text": [
      "Epoch: 0 train loss:1.0527 train accuracy is:0.7623 validation accuracy is:0.7472\n",
      "Epoch: 1 train loss:0.4266 train accuracy is:0.8778 validation accuracy is:0.8536\n",
      "Epoch: 2 train loss:0.5514 train accuracy is:0.8927 validation accuracy is:0.8716\n",
      "Epoch: 3 train loss:0.4284 train accuracy is:0.8981 validation accuracy is:0.8766\n",
      "Epoch: 4 train loss:0.2990 train accuracy is:0.9021 validation accuracy is:0.8814\n",
      "Epoch: 5 train loss:0.3105 train accuracy is:0.9047 validation accuracy is:0.8858\n",
      "Epoch: 6 train loss:0.2519 train accuracy is:0.9082 validation accuracy is:0.8912\n",
      "Epoch: 7 train loss:0.2169 train accuracy is:0.9093 validation accuracy is:0.8952\n",
      "Epoch: 8 train loss:0.3822 train accuracy is:0.9145 validation accuracy is:0.8986\n",
      "Epoch: 9 train loss:0.2754 train accuracy is:0.9103 validation accuracy is:0.8944\n",
      "Epoch: 10 train loss:0.3425 train accuracy is:0.9165 validation accuracy is:0.9012\n",
      "Epoch: 11 train loss:0.3427 train accuracy is:0.9172 validation accuracy is:0.9002\n",
      "Epoch: 12 train loss:0.2557 train accuracy is:0.9194 validation accuracy is:0.9016\n",
      "Epoch: 13 train loss:0.2597 train accuracy is:0.9225 validation accuracy is:0.9070\n",
      "Epoch: 14 train loss:0.1381 train accuracy is:0.9227 validation accuracy is:0.9066\n",
      "Epoch: 15 train loss:0.1101 train accuracy is:0.9236 validation accuracy is:0.9060\n",
      "Epoch: 16 train loss:0.3154 train accuracy is:0.9295 validation accuracy is:0.9086\n",
      "Epoch: 17 train loss:0.1588 train accuracy is:0.9290 validation accuracy is:0.9098\n",
      "Epoch: 18 train loss:0.0997 train accuracy is:0.9305 validation accuracy is:0.9108\n",
      "Epoch: 19 train loss:0.3144 train accuracy is:0.9331 validation accuracy is:0.9106\n",
      "Epoch: 20 train loss:0.1703 train accuracy is:0.9359 validation accuracy is:0.9146\n",
      "Epoch: 21 train loss:0.3801 train accuracy is:0.9355 validation accuracy is:0.9154\n",
      "Epoch: 22 train loss:0.1748 train accuracy is:0.9388 validation accuracy is:0.9178\n",
      "Epoch: 23 train loss:0.0445 train accuracy is:0.9389 validation accuracy is:0.9182\n",
      "Epoch: 24 train loss:0.1519 train accuracy is:0.9417 validation accuracy is:0.9214\n",
      "Epoch: 25 train loss:0.2329 train accuracy is:0.9422 validation accuracy is:0.9234\n",
      "Epoch: 26 train loss:0.1237 train accuracy is:0.9427 validation accuracy is:0.9218\n",
      "Epoch: 27 train loss:0.3232 train accuracy is:0.9443 validation accuracy is:0.9236\n",
      "Epoch: 28 train loss:0.1209 train accuracy is:0.9433 validation accuracy is:0.9248\n",
      "Epoch: 29 train loss:0.1129 train accuracy is:0.9453 validation accuracy is:0.9264\n",
      "Epoch: 30 train loss:0.0785 train accuracy is:0.9472 validation accuracy is:0.9280\n",
      "Epoch: 31 train loss:0.0226 train accuracy is:0.9484 validation accuracy is:0.9298\n",
      "Epoch: 32 train loss:0.2098 train accuracy is:0.9499 validation accuracy is:0.9326\n",
      "Epoch: 33 train loss:0.1222 train accuracy is:0.9484 validation accuracy is:0.9312\n",
      "Epoch: 34 train loss:0.2332 train accuracy is:0.9512 validation accuracy is:0.9324\n",
      "Epoch: 35 train loss:0.4336 train accuracy is:0.9510 validation accuracy is:0.9298\n",
      "Epoch: 36 train loss:0.1052 train accuracy is:0.9512 validation accuracy is:0.9312\n",
      "Epoch: 37 train loss:0.0772 train accuracy is:0.9509 validation accuracy is:0.9312\n",
      "Epoch: 38 train loss:0.2539 train accuracy is:0.9521 validation accuracy is:0.9336\n",
      "Epoch: 39 train loss:0.1541 train accuracy is:0.9521 validation accuracy is:0.9320\n",
      "Epoch: 40 train loss:0.0506 train accuracy is:0.9526 validation accuracy is:0.9334\n",
      "Epoch: 41 train loss:0.1331 train accuracy is:0.9542 validation accuracy is:0.9370\n",
      "Epoch: 42 train loss:0.0347 train accuracy is:0.9542 validation accuracy is:0.9344\n",
      "Epoch: 43 train loss:0.0723 train accuracy is:0.9544 validation accuracy is:0.9358\n",
      "Epoch: 44 train loss:0.0252 train accuracy is:0.9554 validation accuracy is:0.9372\n",
      "Epoch: 45 train loss:0.1440 train accuracy is:0.9550 validation accuracy is:0.9350\n",
      "Epoch: 46 train loss:0.0805 train accuracy is:0.9550 validation accuracy is:0.9360\n",
      "Epoch: 47 train loss:0.1916 train accuracy is:0.9578 validation accuracy is:0.9382\n",
      "Epoch: 48 train loss:0.0864 train accuracy is:0.9578 validation accuracy is:0.9368\n",
      "Epoch: 49 train loss:0.2472 train accuracy is:0.9577 validation accuracy is:0.9380\n",
      "Epoch: 50 train loss:0.0358 train accuracy is:0.9578 validation accuracy is:0.9380\n",
      "Epoch: 51 train loss:0.1043 train accuracy is:0.9590 validation accuracy is:0.9384\n",
      "Epoch: 52 train loss:0.0758 train accuracy is:0.9585 validation accuracy is:0.9386\n",
      "Epoch: 53 train loss:0.1981 train accuracy is:0.9598 validation accuracy is:0.9388\n",
      "Epoch: 54 train loss:0.1662 train accuracy is:0.9605 validation accuracy is:0.9412\n",
      "Epoch: 55 train loss:0.2636 train accuracy is:0.9592 validation accuracy is:0.9378\n",
      "Epoch: 56 train loss:0.0619 train accuracy is:0.9607 validation accuracy is:0.9408\n",
      "Epoch: 57 train loss:0.1775 train accuracy is:0.9602 validation accuracy is:0.9392\n",
      "Epoch: 58 train loss:0.0680 train accuracy is:0.9609 validation accuracy is:0.9418\n",
      "Epoch: 59 train loss:0.1031 train accuracy is:0.9606 validation accuracy is:0.9386\n",
      "Epoch: 60 train loss:0.0416 train accuracy is:0.9610 validation accuracy is:0.9400\n",
      "Epoch: 61 train loss:0.0301 train accuracy is:0.9622 validation accuracy is:0.9418\n",
      "Epoch: 62 train loss:0.1042 train accuracy is:0.9620 validation accuracy is:0.9422\n",
      "Epoch: 63 train loss:0.1013 train accuracy is:0.9629 validation accuracy is:0.9428\n",
      "Epoch: 64 train loss:0.0587 train accuracy is:0.9622 validation accuracy is:0.9414\n",
      "Epoch: 65 train loss:0.2019 train accuracy is:0.9630 validation accuracy is:0.9446\n",
      "Epoch: 66 train loss:0.0323 train accuracy is:0.9630 validation accuracy is:0.9446\n",
      "Epoch: 67 train loss:0.2749 train accuracy is:0.9641 validation accuracy is:0.9452\n",
      "Epoch: 68 train loss:0.1525 train accuracy is:0.9638 validation accuracy is:0.9440\n",
      "Epoch: 69 train loss:0.0598 train accuracy is:0.9643 validation accuracy is:0.9448\n",
      "Epoch: 70 train loss:0.0824 train accuracy is:0.9638 validation accuracy is:0.9432\n",
      "Epoch: 71 train loss:0.0305 train accuracy is:0.9638 validation accuracy is:0.9440\n",
      "Epoch: 72 train loss:0.0869 train accuracy is:0.9646 validation accuracy is:0.9444\n",
      "Epoch: 73 train loss:0.0605 train accuracy is:0.9653 validation accuracy is:0.9448\n",
      "Epoch: 74 train loss:0.1036 train accuracy is:0.9644 validation accuracy is:0.9450\n",
      "Epoch: 75 train loss:0.2036 train accuracy is:0.9650 validation accuracy is:0.9452\n",
      "Epoch: 76 train loss:0.0693 train accuracy is:0.9644 validation accuracy is:0.9436\n",
      "Epoch: 77 train loss:0.1348 train accuracy is:0.9666 validation accuracy is:0.9462\n",
      "Epoch: 78 train loss:0.0301 train accuracy is:0.9656 validation accuracy is:0.9438\n",
      "Epoch: 79 train loss:0.1746 train accuracy is:0.9648 validation accuracy is:0.9428\n",
      "Epoch: 80 train loss:0.0693 train accuracy is:0.9654 validation accuracy is:0.9446\n",
      "Epoch: 81 train loss:0.1756 train accuracy is:0.9670 validation accuracy is:0.9472\n",
      "Epoch: 82 train loss:0.0480 train accuracy is:0.9666 validation accuracy is:0.9450\n",
      "Epoch: 83 train loss:0.0191 train accuracy is:0.9664 validation accuracy is:0.9450\n",
      "Epoch: 84 train loss:0.0330 train accuracy is:0.9665 validation accuracy is:0.9450\n",
      "Epoch: 85 train loss:0.0256 train accuracy is:0.9650 validation accuracy is:0.9432\n",
      "Epoch: 86 train loss:0.0545 train accuracy is:0.9672 validation accuracy is:0.9460\n",
      "Epoch: 87 train loss:0.0514 train accuracy is:0.9671 validation accuracy is:0.9462\n",
      "Epoch: 88 train loss:0.0680 train accuracy is:0.9662 validation accuracy is:0.9438\n",
      "Epoch: 89 train loss:0.0800 train accuracy is:0.9672 validation accuracy is:0.9448\n",
      "Epoch: 90 train loss:0.0410 train accuracy is:0.9671 validation accuracy is:0.9454\n",
      "Epoch: 91 train loss:0.0542 train accuracy is:0.9668 validation accuracy is:0.9442\n",
      "Epoch: 92 train loss:0.0941 train accuracy is:0.9661 validation accuracy is:0.9446\n",
      "Epoch: 93 train loss:0.0361 train accuracy is:0.9677 validation accuracy is:0.9460\n",
      "Epoch: 94 train loss:0.0230 train accuracy is:0.9688 validation accuracy is:0.9482\n",
      "Epoch: 95 train loss:0.1137 train accuracy is:0.9678 validation accuracy is:0.9454\n",
      "Epoch: 96 train loss:0.0898 train accuracy is:0.9685 validation accuracy is:0.9472\n",
      "Epoch: 97 train loss:0.2789 train accuracy is:0.9662 validation accuracy is:0.9452\n",
      "Epoch: 98 train loss:0.1046 train accuracy is:0.9686 validation accuracy is:0.9486\n",
      "Epoch: 99 train loss:0.0712 train accuracy is:0.9684 validation accuracy is:0.9474\n"
     ]
    }
   ],
   "source": [
    "for epoch in range(EPOCH):\n",
    "    for step,(x,y) in enumerate(train_loader):\n",
    "        x = x.view(-1,28*28)\n",
    "        bx = Variable(x)\n",
    "        by = Variable(y)\n",
    "        output = fc(bx)\n",
    "        loss = loss_func(output, by)\n",
    "        optimizer.zero_grad()\n",
    "        loss.backward()\n",
    "        optimizer.step()\n",
    "        \n",
    "\n",
    "    val_y_predict = torch.max(fc(val_x),1)[1].data\n",
    "    train_y_predict = torch.max(fc(train_x),1)[1].data\n",
    "    val_accuracy = sum(val_y_predict == val_y)/len(val_y)\n",
    "    train_accuracy = sum(train_y_predict == train_y)/len(train_y)\n",
    "    train_acc.append(train_accuracy)\n",
    "    val_acc.append(val_accuracy)\n",
    "    epochs.append(epoch)\n",
    "    train_loss.append(loss)\n",
    "    print('Epoch:',epoch,'train loss:%.4f' %loss.data[0],'train accuracy is:%.4f' %train_accuracy,'validation accuracy is:%.4f' %val_accuracy)"
   ]
  },
  {
   "cell_type": "code",
   "execution_count": 21,
   "metadata": {},
   "outputs": [
    {
     "name": "stdout",
     "output_type": "stream",
     "text": [
      "Final train loss:0.0712 Final train accuracy is:0.9684 Final test accuracy is:0.9734\n"
     ]
    }
   ],
   "source": [
    "test_y_predict = torch.max(fc(test_x),1)[1].data\n",
    "test_accuracy = sum(test_y_predict == test_y)/len(test_y)\n",
    "train_y_predict = torch.max(fc(train_x),1)[1].data\n",
    "train_accuracy = sum(train_y_predict == train_y)/len(train_y)\n",
    "print('Final train loss:%.4f' %loss.data[0],'Final train accuracy is:%.4f' %train_accuracy,'Final test accuracy is:%.4f' %test_accuracy)\n",
    "        "
   ]
  },
  {
   "cell_type": "markdown",
   "metadata": {},
   "source": [
    "if neural nets size is 784 10\n",
    "with lr = 0.01 \n",
    "achieve accuracy of 92%\n",
    "if neural nets size is 784 32 10\n",
    "with lr = 0.01 epoch=1000\n",
    "achieve accuracy of 99.5%"
   ]
  },
  {
   "cell_type": "code",
   "execution_count": 22,
   "metadata": {},
   "outputs": [
    {
     "name": "stdout",
     "output_type": "stream",
     "text": [
      "<class 'torch.FloatTensor'> torch.Size([32, 784])\n",
      "<class 'torch.FloatTensor'> torch.Size([32])\n",
      "<class 'torch.FloatTensor'> torch.Size([10, 32])\n",
      "<class 'torch.FloatTensor'> torch.Size([10])\n"
     ]
    }
   ],
   "source": [
    "for param in fc.parameters():\n",
    "    print(type(param.data), param.size())"
   ]
  },
  {
   "cell_type": "code",
   "execution_count": 23,
   "metadata": {},
   "outputs": [
    {
     "name": "stderr",
     "output_type": "stream",
     "text": [
      "/home/yunyou/anaconda3/lib/python3.6/site-packages/torch/serialization.py:158: UserWarning: Couldn't retrieve source code for container of type FCNets. It won't be checked for correctness upon loading.\n",
      "  \"type \" + obj.__name__ + \". It won't be checked \"\n"
     ]
    }
   ],
   "source": [
    "torch.save(fc,'fc.pkl')"
   ]
  },
  {
   "cell_type": "code",
   "execution_count": 24,
   "metadata": {},
   "outputs": [
    {
     "data": {
      "image/png": "[encoded data removed]",
      "text/plain": [
       "<matplotlib.figure.Figure at 0x7f46a5c98320>"
      ]
     },
     "metadata": {},
     "output_type": "display_data"
    }
   ],
   "source": [
    "plt.plot(epochs,train_acc,'r',label = 'training accuracy')\n",
    "plt.plot(epochs,val_acc,'b',label= 'validation accuracy')\n",
    "plt.xlabel('epochs')\n",
    "plt.ylabel('accuracy')\n",
    "plt.legend()\n",
    "plt.show()"
   ]
  },
  {
   "cell_type": "code",
   "execution_count": 25,
   "metadata": {},
   "outputs": [
    {
     "data": {
      "image/png": "[encoded data removed]",
      "text/plain": [
       "<matplotlib.figure.Figure at 0x7f46a1b26710>"
      ]
     },
     "metadata": {},
     "output_type": "display_data"
    }
   ],
   "source": [
    "plt.plot(epochs,[i.data[0] for i in train_loss])\n",
    "plt.xlabel('epochs')\n",
    "plt.ylabel('loss')\n",
    "plt.show()"
   ]
  },
  {
   "cell_type": "code",
   "execution_count": null,
   "metadata": {},
   "outputs": [],
   "source": []
  }
 ],
 "metadata": {
  "kernelspec": {
   "display_name": "Python 3",
   "language": "python",
   "name": "python3"
  },
  "language_info": {
   "codemirror_mode": {
    "name": "ipython",
    "version": 3
   },
   "file_extension": ".py",
   "mimetype": "text/x-python",
   "name": "python",
   "nbconvert_exporter": "python",
   "pygments_lexer": "ipython3",
   "version": "3.6.3"
  }
 },
 "nbformat": 4,
 "nbformat_minor": 2
}
