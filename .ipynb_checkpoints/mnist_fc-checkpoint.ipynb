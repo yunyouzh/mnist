{
 "cells": [
  {
   "cell_type": "markdown",
   "metadata": {},
   "source": [
    "import libraries"
   ]
  },
  {
   "cell_type": "code",
   "execution_count": 5,
   "metadata": {},
   "outputs": [],
   "source": [
    "import torch\n",
    "from torch.autograd import Variable\n",
    "import torch.nn as nn\n",
    "import torch.utils.data as Data\n",
    "import torchvision\n",
    "import matplotlib.pyplot as plt"
   ]
  },
  {
   "cell_type": "markdown",
   "metadata": {},
   "source": [
    "define hyperparameters"
   ]
  },
  {
   "cell_type": "code",
   "execution_count": 6,
   "metadata": {},
   "outputs": [],
   "source": [
    "EPOCH = 100\n",
    "BATCH_SIZE = 64\n",
    "LR = 0.01"
   ]
  },
  {
   "cell_type": "markdown",
   "metadata": {},
   "source": [
    "download and import mnist data"
   ]
  },
  {
   "cell_type": "code",
   "execution_count": 7,
   "metadata": {},
   "outputs": [],
   "source": [
    "train_data = torchvision.datasets.MNIST(root='./',train=True,download=False,transform=torchvision.transforms.ToTensor())\n",
    "test_data = torchvision.datasets.MNIST(root='./',train=False,transform=torchvision.transforms.ToTensor())\n",
    "train_loader = Data.DataLoader(dataset=train_data,batch_size=BATCH_SIZE,shuffle=True,num_workers=2)\n",
    "train_x = Variable(train_data.train_data.view(-1,28*28)).type(torch.FloatTensor)\n",
    "train_y = train_data.train_labels\n",
    "alltest_x = Variable(test_data.test_data.view(-1, 28*28)).type(torch.FloatTensor)\n",
    "alltest_y = test_data.test_labels\n",
    "val_x = alltest_x[:5000]\n",
    "val_y = alltest_y[:5000]\n",
    "test_x = alltest_x[5000:]\n",
    "test_y = alltest_y[5000:]"
   ]
  },
  {
   "cell_type": "code",
   "execution_count": 8,
   "metadata": {},
   "outputs": [
    {
     "name": "stdout",
     "output_type": "stream",
     "text": [
      "                0\n",
      "count  5000.00000\n",
      "mean      4.47180\n",
      "std       2.88965\n",
      "min       0.00000\n",
      "25%       2.00000\n",
      "50%       4.00000\n",
      "75%       7.00000\n",
      "max       9.00000\n",
      "                  0\n",
      "count  60000.000000\n",
      "mean       4.453933\n",
      "std        2.889270\n",
      "min        0.000000\n",
      "25%        2.000000\n",
      "50%        4.000000\n",
      "75%        7.000000\n",
      "max        9.000000\n",
      "                 0\n",
      "count  5000.000000\n",
      "mean      4.415000\n",
      "std       2.902078\n",
      "min       0.000000\n",
      "25%       2.000000\n",
      "50%       4.000000\n",
      "75%       7.000000\n",
      "max       9.000000\n"
     ]
    }
   ],
   "source": [
    "import numpy as np\n",
    "import pandas as pd\n",
    "y = val_y.numpy()\n",
    "y1 = train_y.numpy()\n",
    "y2 = test_y.numpy()\n",
    "d = pd.DataFrame(y)\n",
    "d1 = pd.DataFrame(y1)\n",
    "d2 = pd.DataFrame(y2)\n",
    "print(d.describe())\n",
    "print(d1.describe())\n",
    "print(d2.describe())"
   ]
  },
  {
   "cell_type": "markdown",
   "metadata": {},
   "source": [
    "Define Fully Connected Neural Network"
   ]
  },
  {
   "cell_type": "code",
   "execution_count": 9,
   "metadata": {},
   "outputs": [],
   "source": [
    "class FCNets(nn.Module):\n",
    "    def __init__(self,nlist):\n",
    "        super(FCNets,self).__init__()\n",
    "        if len(nlist) < 2:\n",
    "            print('error:not enough layers')\n",
    "        else:\n",
    "            self.fc = nn.Sequential()\n",
    "            for n in range(len(nlist)-1):\n",
    "                self.fc.add_module('linear' + str(n+1), nn.Linear(in_features=nlist[n], out_features=nlist[n+1]))\n",
    "                self.fc.add_module('relu' + str(n+1), nn.ReLU())\n",
    "            #self.fc.add_module('softmax', nn.Softmax())\n",
    "    def forward(self,x):\n",
    "        return self.fc(x)"
   ]
  },
  {
   "cell_type": "markdown",
   "metadata": {},
   "source": [
    "Define Neural Net instance and optimizer, loss function"
   ]
  },
  {
   "cell_type": "code",
   "execution_count": 10,
   "metadata": {},
   "outputs": [
    {
     "name": "stdout",
     "output_type": "stream",
     "text": [
      "FCNets(\n",
      "  (fc): Sequential(\n",
      "    (linear1): Linear(in_features=784, out_features=32)\n",
      "    (relu1): ReLU()\n",
      "    (linear2): Linear(in_features=32, out_features=10)\n",
      "    (relu2): ReLU()\n",
      "  )\n",
      ")\n"
     ]
    }
   ],
   "source": [
    "fc = FCNets([28*28,32,10])\n",
    "print(fc)\n",
    "optimizer = torch.optim.SGD(params=fc.parameters(), lr=LR)\n",
    "loss_func = nn.CrossEntropyLoss()"
   ]
  },
  {
   "cell_type": "code",
   "execution_count": null,
   "metadata": {},
   "outputs": [],
   "source": [
    "train_acc =  []\n",
    "val_acc = []\n",
    "epochs = []\n",
    "train_loss = []"
   ]
  },
  {
   "cell_type": "code",
   "execution_count": null,
   "metadata": {},
   "outputs": [
    {
     "name": "stdout",
     "output_type": "stream",
     "text": [
      "Epoch: 0 train loss:0.8313 train accuracy is:0.7459 validation accuracy is:0.7166\n"
     ]
    }
   ],
   "source": [
    "for epoch in range(EPOCH):\n",
    "    for step,(x,y) in enumerate(train_loader):\n",
    "        x = x.view(-1,28*28)\n",
    "        bx = Variable(x)\n",
    "        by = Variable(y)\n",
    "        output = fc(bx)\n",
    "        loss = loss_func(output, by)\n",
    "        optimizer.zero_grad()\n",
    "        loss.backward()\n",
    "        optimizer.step()\n",
    "        \n",
    "    if epoch%5 == 0:\n",
    "        val_y_predict = torch.max(fc(val_x),1)[1].data\n",
    "        train_y_predict = torch.max(fc(train_x),1)[1].data\n",
    "        val_accuracy = sum(val_y_predict == val_y)/len(val_y)\n",
    "        train_accuracy = sum(train_y_predict == train_y)/len(train_y)\n",
    "        train_acc.append(train_accuracy)\n",
    "        val_acc.append(val_accuracy)\n",
    "        epochs.append(epoch)\n",
    "        train_loss.append(loss)\n",
    "        print('Epoch:',epoch,'train loss:%.4f' %loss.data[0],'train accuracy is:%.4f' %train_accuracy,'validation accuracy is:%.4f' %val_accuracy)"
   ]
  },
  {
   "cell_type": "code",
   "execution_count": null,
   "metadata": {},
   "outputs": [],
   "source": [
    "test_y_predict = torch.max(fc(test_x),1)[1].data\n",
    "test_accuracy = sum(test_y_predict == test_y)/len(test_y)\n",
    "train_y_predict = torch.max(fc(train_x),1)[1].data\n",
    "train_accuracy = sum(train_y_predict == train_y)/len(train_y)\n",
    "print('Final train loss:%.4f' %loss.data[0],'Final train accuracy is:%.4f' %train_accuracy,'Final test accuracy is:%.4f' %test_accuracy)\n",
    "        "
   ]
  },
  {
   "cell_type": "markdown",
   "metadata": {},
   "source": [
    "if neural nets size is 784 10\n",
    "with lr = 0.01 \n",
    "achieve accuracy of 92%\n",
    "if neural nets size is 784 32 10\n",
    "with lr = 0.01 epoch=1000\n",
    "achieve accuracy of 99.5%"
   ]
  },
  {
   "cell_type": "code",
   "execution_count": null,
   "metadata": {},
   "outputs": [],
   "source": [
    "for param in fc.parameters():\n",
    "    print(type(param.data), param.size())"
   ]
  },
  {
   "cell_type": "code",
   "execution_count": null,
   "metadata": {},
   "outputs": [],
   "source": [
    "torch.save(fc,'fc.pkl')"
   ]
  },
  {
   "cell_type": "code",
   "execution_count": null,
   "metadata": {},
   "outputs": [],
   "source": [
    "plt.plot(epochs,train_acc,'r',label = 'training accuracy')\n",
    "plt.plot(epochs,val_acc,'b',label= 'validation accuracy')\n",
    "plt.xlabel('epochs')\n",
    "plt.ylabel('accuracy')\n",
    "plt.legend()\n",
    "plt.show()"
   ]
  },
  {
   "cell_type": "code",
   "execution_count": null,
   "metadata": {},
   "outputs": [],
   "source": [
    "plt.plot(epochs,[i.data[0] for i in train_loss])\n",
    "plt.xlabel('epochs')\n",
    "plt.ylabel('loss')\n",
    "plt.show()"
   ]
  },
  {
   "cell_type": "code",
   "execution_count": null,
   "metadata": {},
   "outputs": [],
   "source": []
  }
 ],
 "metadata": {
  "kernelspec": {
   "display_name": "Python 3",
   "language": "python",
   "name": "python3"
  },
  "language_info": {
   "codemirror_mode": {
    "name": "ipython",
    "version": 3
   },
   "file_extension": ".py",
   "mimetype": "text/x-python",
   "name": "python",
   "nbconvert_exporter": "python",
   "pygments_lexer": "ipython3",
   "version": "3.6.3"
  }
 },
 "nbformat": 4,
 "nbformat_minor": 2
}
