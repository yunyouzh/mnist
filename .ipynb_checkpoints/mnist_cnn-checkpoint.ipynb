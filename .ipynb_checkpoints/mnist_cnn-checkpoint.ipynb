{
 "cells": [
  {
   "cell_type": "markdown",
   "metadata": {},
   "source": [
    "import libraries"
   ]
  },
  {
   "cell_type": "code",
   "execution_count": 5,
   "metadata": {},
   "outputs": [],
   "source": [
    "import torch\n",
    "from torch.autograd import Variable\n",
    "import torch.nn as nn\n",
    "import torch.utils.data as Data\n",
    "import torchvision\n",
    "import matplotlib.pyplot as plt"
   ]
  },
  {
   "cell_type": "markdown",
   "metadata": {},
   "source": [
    "define hyperparameters"
   ]
  },
  {
   "cell_type": "code",
   "execution_count": 6,
   "metadata": {},
   "outputs": [],
   "source": [
    "EPOCH = 1\n",
    "BATCH_SIZE = 50\n",
    "LR = 0.0001"
   ]
  },
  {
   "cell_type": "markdown",
   "metadata": {},
   "source": [
    "download and import mnist data"
   ]
  },
  {
   "cell_type": "code",
   "execution_count": 7,
   "metadata": {},
   "outputs": [],
   "source": [
    "train_data = torchvision.datasets.MNIST(root='./',train=True,download=False,transform=torchvision.transforms.ToTensor())\n",
    "test_data = torchvision.datasets.MNIST(root='./',train=False,transform=torchvision.transforms.ToTensor())\n",
    "train_loader = Data.DataLoader(dataset=train_data,batch_size=BATCH_SIZE,shuffle=True,num_workers=2)\n",
    "train_x = Variable(train_data.train_data.view(-1,1,28,28)).type(torch.FloatTensor)\n",
    "train_y = train_data.train_labels\n",
    "alltest_x = Variable(test_data.test_data.view(-1,1, 28,28)).type(torch.FloatTensor)\n",
    "alltest_y = test_data.test_labels\n",
    "val_x = alltest_x[:5000,:,:,:]\n",
    "val_y = alltest_y[:5000]\n",
    "test_x = alltest_x[5000:,:,:,:]\n",
    "test_y = alltest_y[5000:]"
   ]
  },
  {
   "cell_type": "code",
   "execution_count": null,
   "metadata": {},
   "outputs": [],
   "source": []
  },
  {
   "cell_type": "markdown",
   "metadata": {},
   "source": [
    "Define Fully Connected Neural Network"
   ]
  },
  {
   "cell_type": "code",
   "execution_count": 8,
   "metadata": {},
   "outputs": [],
   "source": [
    "class ConvNets(nn.Module):\n",
    "    def __init__(self):\n",
    "        super(ConvNets,self).__init__()\n",
    "        self.conv = nn.Sequential(\n",
    "            nn.Conv2d(1,16,5,1,2),\n",
    "            nn.ReLU(),\n",
    "            nn.MaxPool2d(2),\n",
    "            nn.Conv2d(16,32,5,1,2),\n",
    "            nn.ReLU(),\n",
    "            nn.MaxPool2d(2),\n",
    "            )\n",
    "        self.out = nn.Linear(32*7*7, 10)\n",
    "        \n",
    "    def forward(self,x):\n",
    "        x = self.conv(x)\n",
    "        x = x.view(-1,32*7*7)\n",
    "        x = self.out(x)\n",
    "        return x"
   ]
  },
  {
   "cell_type": "markdown",
   "metadata": {},
   "source": [
    "Define Neural Net instance and optimizer, loss function"
   ]
  },
  {
   "cell_type": "code",
   "execution_count": 9,
   "metadata": {},
   "outputs": [],
   "source": [
    "cnn = ConvNets()\n",
    "optimizer = torch.optim.Adam(params=cnn.parameters(), lr=LR)\n",
    "loss_func = nn.CrossEntropyLoss()"
   ]
  },
  {
   "cell_type": "code",
   "execution_count": 10,
   "metadata": {},
   "outputs": [],
   "source": [
    "train_acc =  []\n",
    "val_acc = []\n",
    "epochs = []\n",
    "train_loss = []"
   ]
  },
  {
   "cell_type": "code",
   "execution_count": 11,
   "metadata": {},
   "outputs": [
    {
     "name": "stdout",
     "output_type": "stream",
     "text": [
      "Epoch: 0 train loss:2.3082 train accuracy is:0.1110 validation accuracy is:0.1096\n",
      "Epoch: 0 train loss:2.2289 train accuracy is:0.4462 validation accuracy is:0.4106\n",
      "Epoch: 0 train loss:1.9886 train accuracy is:0.3726 validation accuracy is:0.4028\n",
      "Epoch: 0 train loss:1.6917 train accuracy is:0.5452 validation accuracy is:0.5732\n",
      "Epoch: 0 train loss:1.3144 train accuracy is:0.6614 validation accuracy is:0.6576\n",
      "Epoch: 0 train loss:1.0394 train accuracy is:0.7260 validation accuracy is:0.7092\n",
      "Epoch: 0 train loss:0.8305 train accuracy is:0.7372 validation accuracy is:0.7188\n",
      "Epoch: 0 train loss:0.5764 train accuracy is:0.7558 validation accuracy is:0.7338\n",
      "Epoch: 0 train loss:0.5692 train accuracy is:0.7606 validation accuracy is:0.7418\n",
      "Epoch: 0 train loss:0.4486 train accuracy is:0.7736 validation accuracy is:0.7506\n",
      "Epoch: 0 train loss:0.5946 train accuracy is:0.7780 validation accuracy is:0.7588\n",
      "Epoch: 0 train loss:0.4560 train accuracy is:0.7738 validation accuracy is:0.7540\n",
      "Epoch: 0 train loss:0.2795 train accuracy is:0.8118 validation accuracy is:0.7882\n",
      "Epoch: 0 train loss:0.2915 train accuracy is:0.8066 validation accuracy is:0.7704\n",
      "Epoch: 0 train loss:0.5947 train accuracy is:0.8164 validation accuracy is:0.7874\n",
      "Epoch: 0 train loss:0.3245 train accuracy is:0.8276 validation accuracy is:0.7974\n",
      "Epoch: 0 train loss:0.3824 train accuracy is:0.8156 validation accuracy is:0.7834\n",
      "Epoch: 0 train loss:0.3672 train accuracy is:0.8340 validation accuracy is:0.8070\n",
      "Epoch: 0 train loss:0.2669 train accuracy is:0.8414 validation accuracy is:0.8162\n"
     ]
    }
   ],
   "source": [
    "for epoch in range(EPOCH):\n",
    "    for step,(x,y) in enumerate(train_loader):\n",
    "        x = x.view(-1,1,28,28)\n",
    "        bx = Variable(x)\n",
    "        by = Variable(y)\n",
    "        output = cnn(bx)\n",
    "        loss = loss_func(output, by)\n",
    "        optimizer.zero_grad()\n",
    "        loss.backward()\n",
    "        optimizer.step()\n",
    "        \n",
    "        if step%50 == 0:\n",
    "            val_y_predict = torch.max(cnn(val_x),1)[1].data\n",
    "            train_y_predict = torch.max(cnn(train_x[:5000,:,:,:]),1)[1].data\n",
    "            val_accuracy = sum(val_y_predict == val_y)/len(val_y)\n",
    "            train_accuracy = sum(train_y_predict == train_y[:5000])/len(train_y[:5000])\n",
    "            train_acc.append(train_accuracy)\n",
    "            val_acc.append(val_accuracy)\n",
    "            epochs.append(epoch)\n",
    "            train_loss.append(loss)\n",
    "            print('Epoch:',epoch,'train loss:%.4f' %loss.data[0],'train accuracy is:%.4f' %train_accuracy,'validation accuracy is:%.4f' %val_accuracy)\n",
    "\n"
   ]
  },
  {
   "cell_type": "code",
   "execution_count": 12,
   "metadata": {},
   "outputs": [
    {
     "ename": "NameError",
     "evalue": "name 'fc' is not defined",
     "output_type": "error",
     "traceback": [
      "\u001b[0;31m---------------------------------------------------------------------------\u001b[0m",
      "\u001b[0;31mNameError\u001b[0m                                 Traceback (most recent call last)",
      "\u001b[0;32m<ipython-input-12-5ad4b1b281de>\u001b[0m in \u001b[0;36m<module>\u001b[0;34m()\u001b[0m\n\u001b[0;32m----> 1\u001b[0;31m \u001b[0mtest_y_predict\u001b[0m \u001b[0;34m=\u001b[0m \u001b[0mtorch\u001b[0m\u001b[0;34m.\u001b[0m\u001b[0mmax\u001b[0m\u001b[0;34m(\u001b[0m\u001b[0mfc\u001b[0m\u001b[0;34m(\u001b[0m\u001b[0mtest_x\u001b[0m\u001b[0;34m)\u001b[0m\u001b[0;34m,\u001b[0m\u001b[0;36m1\u001b[0m\u001b[0;34m)\u001b[0m\u001b[0;34m[\u001b[0m\u001b[0;36m1\u001b[0m\u001b[0;34m]\u001b[0m\u001b[0;34m.\u001b[0m\u001b[0mdata\u001b[0m\u001b[0;34m\u001b[0m\u001b[0m\n\u001b[0m\u001b[1;32m      2\u001b[0m \u001b[0mtest_accuracy\u001b[0m \u001b[0;34m=\u001b[0m \u001b[0msum\u001b[0m\u001b[0;34m(\u001b[0m\u001b[0mtest_y_predict\u001b[0m \u001b[0;34m==\u001b[0m \u001b[0mtest_y\u001b[0m\u001b[0;34m)\u001b[0m\u001b[0;34m/\u001b[0m\u001b[0mlen\u001b[0m\u001b[0;34m(\u001b[0m\u001b[0mtest_y\u001b[0m\u001b[0;34m)\u001b[0m\u001b[0;34m\u001b[0m\u001b[0m\n\u001b[1;32m      3\u001b[0m \u001b[0mtrain_y_predict\u001b[0m \u001b[0;34m=\u001b[0m \u001b[0mtorch\u001b[0m\u001b[0;34m.\u001b[0m\u001b[0mmax\u001b[0m\u001b[0;34m(\u001b[0m\u001b[0mfc\u001b[0m\u001b[0;34m(\u001b[0m\u001b[0mtrain_x\u001b[0m\u001b[0;34m)\u001b[0m\u001b[0;34m,\u001b[0m\u001b[0;36m1\u001b[0m\u001b[0;34m)\u001b[0m\u001b[0;34m[\u001b[0m\u001b[0;36m1\u001b[0m\u001b[0;34m]\u001b[0m\u001b[0;34m.\u001b[0m\u001b[0mdata\u001b[0m\u001b[0;34m\u001b[0m\u001b[0m\n\u001b[1;32m      4\u001b[0m \u001b[0mtrain_accuracy\u001b[0m \u001b[0;34m=\u001b[0m \u001b[0msum\u001b[0m\u001b[0;34m(\u001b[0m\u001b[0mtrain_y_predict\u001b[0m \u001b[0;34m==\u001b[0m \u001b[0mtrain_y\u001b[0m\u001b[0;34m)\u001b[0m\u001b[0;34m/\u001b[0m\u001b[0mlen\u001b[0m\u001b[0;34m(\u001b[0m\u001b[0mtrain_y\u001b[0m\u001b[0;34m)\u001b[0m\u001b[0;34m\u001b[0m\u001b[0m\n\u001b[1;32m      5\u001b[0m \u001b[0mprint\u001b[0m\u001b[0;34m(\u001b[0m\u001b[0;34m'Final train loss:%.4f'\u001b[0m \u001b[0;34m%\u001b[0m\u001b[0mloss\u001b[0m\u001b[0;34m.\u001b[0m\u001b[0mdata\u001b[0m\u001b[0;34m[\u001b[0m\u001b[0;36m0\u001b[0m\u001b[0;34m]\u001b[0m\u001b[0;34m,\u001b[0m\u001b[0;34m'Final train accuracy is:%.4f'\u001b[0m \u001b[0;34m%\u001b[0m\u001b[0mtrain_accuracy\u001b[0m\u001b[0;34m,\u001b[0m\u001b[0;34m'Final test accuracy is:%.4f'\u001b[0m \u001b[0;34m%\u001b[0m\u001b[0mtest_accuracy\u001b[0m\u001b[0;34m)\u001b[0m\u001b[0;34m\u001b[0m\u001b[0m\n",
      "\u001b[0;31mNameError\u001b[0m: name 'fc' is not defined"
     ]
    }
   ],
   "source": [
    "test_y_predict = torch.max(cnn(test_x),1)[1].data\n",
    "test_accuracy = sum(test_y_predict == test_y)/len(test_y)\n",
    "train_y_predict = torch.max(cnn(train_x),1)[1].data\n",
    "train_accuracy = sum(train_y_predict == train_y)/len(train_y)\n",
    "print('Final train loss:%.4f' %loss.data[0],'Final train accuracy is:%.4f' %train_accuracy,'Final test accuracy is:%.4f' %test_accuracy)\n",
    "        "
   ]
  },
  {
   "cell_type": "markdown",
   "metadata": {},
   "source": [
    "for param in fc.parameters():\n",
    "    print(type(param.data), param.size())"
   ]
  },
  {
   "cell_type": "code",
   "execution_count": null,
   "metadata": {},
   "outputs": [],
   "source": [
    "torch.save(cnn,'cnn.pkl')"
   ]
  },
  {
   "cell_type": "markdown",
   "metadata": {},
   "source": [
    "plt.plot(epochs,train_acc,'r',label = 'training accuracy')\n",
    "plt.plot(epochs,val_acc,'b',label= 'validation accuracy')\n",
    "plt.xlabel('epochs')\n",
    "plt.ylabel('accuracy')\n",
    "plt.legend()\n",
    "plt.show()"
   ]
  },
  {
   "cell_type": "markdown",
   "metadata": {},
   "source": [
    "plt.plot(epochs,[i.data[0] for i in train_loss])\n",
    "plt.xlabel('epochs')\n",
    "plt.ylabel('loss')\n",
    "plt.show()"
   ]
  },
  {
   "cell_type": "code",
   "execution_count": null,
   "metadata": {},
   "outputs": [],
   "source": []
  }
 ],
 "metadata": {
  "kernelspec": {
   "display_name": "Python 3",
   "language": "python",
   "name": "python3"
  },
  "language_info": {
   "codemirror_mode": {
    "name": "ipython",
    "version": 3
   },
   "file_extension": ".py",
   "mimetype": "text/x-python",
   "name": "python",
   "nbconvert_exporter": "python",
   "pygments_lexer": "ipython3",
   "version": "3.6.3"
  }
 },
 "nbformat": 4,
 "nbformat_minor": 2
}
